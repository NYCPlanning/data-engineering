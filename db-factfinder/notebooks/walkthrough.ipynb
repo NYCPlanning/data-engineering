{
 "cells": [
  {
   "cell_type": "code",
   "execution_count": 7,
   "metadata": {},
   "outputs": [],
   "source": [
    "from factfinder.calculate import Calculate\n",
    "from dotenv import load_dotenv\n",
    "import os"
   ]
  },
  {
   "cell_type": "code",
   "execution_count": 6,
   "metadata": {},
   "outputs": [],
   "source": [
    "try:\n",
    "    env_path = \"../.env\"\n",
    "    load_dotenv(dotenv_path=env_path)\n",
    "except:\n",
    "    print(\".env file is missing ...\")"
   ]
  },
  {
   "cell_type": "code",
   "execution_count": 11,
   "metadata": {},
   "outputs": [],
   "source": [
    "calculate = Calculate(\n",
    "        api_key=os.environ[\"API_KEY\"], year=2019, source=\"acs\", geography='2010_to_2020'\n",
    "    )\n"
   ]
  },
  {
   "cell_type": "code",
   "execution_count": 15,
   "metadata": {},
   "outputs": [],
   "source": [
    "df2020 = calculate('aghhinc', 'CT20')\n",
    "df2010 = calculate('aghhinc', 'tract')"
   ]
  },
  {
   "cell_type": "code",
   "execution_count": 19,
   "metadata": {},
   "outputs": [
    {
     "data": {
      "text/html": [
       "<div>\n",
       "<style scoped>\n",
       "    .dataframe tbody tr th:only-of-type {\n",
       "        vertical-align: middle;\n",
       "    }\n",
       "\n",
       "    .dataframe tbody tr th {\n",
       "        vertical-align: top;\n",
       "    }\n",
       "\n",
       "    .dataframe thead th {\n",
       "        text-align: right;\n",
       "    }\n",
       "</style>\n",
       "<table border=\"1\" class=\"dataframe\">\n",
       "  <thead>\n",
       "    <tr style=\"text-align: right;\">\n",
       "      <th></th>\n",
       "      <th>census_geoid</th>\n",
       "      <th>labs_geoid</th>\n",
       "      <th>geotype</th>\n",
       "      <th>labs_geotype</th>\n",
       "      <th>pff_variable</th>\n",
       "      <th>c</th>\n",
       "      <th>e</th>\n",
       "      <th>m</th>\n",
       "      <th>p</th>\n",
       "      <th>z</th>\n",
       "    </tr>\n",
       "  </thead>\n",
       "  <tbody>\n",
       "    <tr>\n",
       "      <th>1236</th>\n",
       "      <td>36061007001</td>\n",
       "      <td>1007001</td>\n",
       "      <td>CT20</td>\n",
       "      <td>CT2020</td>\n",
       "      <td>aghhinc</td>\n",
       "      <td>16.3</td>\n",
       "      <td>340169434.0</td>\n",
       "      <td>90945155.0</td>\n",
       "      <td>NaN</td>\n",
       "      <td>NaN</td>\n",
       "    </tr>\n",
       "    <tr>\n",
       "      <th>1237</th>\n",
       "      <td>36061007002</td>\n",
       "      <td>1007002</td>\n",
       "      <td>CT20</td>\n",
       "      <td>CT2020</td>\n",
       "      <td>aghhinc</td>\n",
       "      <td>15.3</td>\n",
       "      <td>388900466.0</td>\n",
       "      <td>98143969.0</td>\n",
       "      <td>NaN</td>\n",
       "      <td>NaN</td>\n",
       "    </tr>\n",
       "  </tbody>\n",
       "</table>\n",
       "</div>"
      ],
      "text/plain": [
       "     census_geoid labs_geoid geotype labs_geotype pff_variable     c  \\\n",
       "1236  36061007001    1007001    CT20       CT2020      aghhinc  16.3   \n",
       "1237  36061007002    1007002    CT20       CT2020      aghhinc  15.3   \n",
       "\n",
       "                e           m   p   z  \n",
       "1236  340169434.0  90945155.0 NaN NaN  \n",
       "1237  388900466.0  98143969.0 NaN NaN  "
      ]
     },
     "execution_count": 19,
     "metadata": {},
     "output_type": "execute_result"
    }
   ],
   "source": [
    "df2020.loc[df2020.labs_geoid.isin(['1007001', '1007002']), :]"
   ]
  },
  {
   "cell_type": "code",
   "execution_count": 23,
   "metadata": {},
   "outputs": [
    {
     "data": {
      "text/html": [
       "<div>\n",
       "<style scoped>\n",
       "    .dataframe tbody tr th:only-of-type {\n",
       "        vertical-align: middle;\n",
       "    }\n",
       "\n",
       "    .dataframe tbody tr th {\n",
       "        vertical-align: top;\n",
       "    }\n",
       "\n",
       "    .dataframe thead th {\n",
       "        text-align: right;\n",
       "    }\n",
       "</style>\n",
       "<table border=\"1\" class=\"dataframe\">\n",
       "  <thead>\n",
       "    <tr style=\"text-align: right;\">\n",
       "      <th></th>\n",
       "      <th>geoid_ct2010</th>\n",
       "      <th>geoid_ct2020</th>\n",
       "      <th>ratio</th>\n",
       "    </tr>\n",
       "  </thead>\n",
       "  <tbody>\n",
       "    <tr>\n",
       "      <th>0</th>\n",
       "      <td>36005000100</td>\n",
       "      <td>36005000100</td>\n",
       "      <td>1.0000</td>\n",
       "    </tr>\n",
       "    <tr>\n",
       "      <th>1</th>\n",
       "      <td>36005000200</td>\n",
       "      <td>36005000200</td>\n",
       "      <td>1.0000</td>\n",
       "    </tr>\n",
       "    <tr>\n",
       "      <th>2</th>\n",
       "      <td>36005000400</td>\n",
       "      <td>36005000400</td>\n",
       "      <td>1.0000</td>\n",
       "    </tr>\n",
       "    <tr>\n",
       "      <th>3</th>\n",
       "      <td>36005001600</td>\n",
       "      <td>36005001600</td>\n",
       "      <td>1.0000</td>\n",
       "    </tr>\n",
       "    <tr>\n",
       "      <th>4</th>\n",
       "      <td>36005001900</td>\n",
       "      <td>36005001901</td>\n",
       "      <td>0.2457</td>\n",
       "    </tr>\n",
       "  </tbody>\n",
       "</table>\n",
       "</div>"
      ],
      "text/plain": [
       "  geoid_ct2010 geoid_ct2020   ratio\n",
       "0  36005000100  36005000100  1.0000\n",
       "1  36005000200  36005000200  1.0000\n",
       "2  36005000400  36005000400  1.0000\n",
       "3  36005001600  36005001600  1.0000\n",
       "4  36005001900  36005001901  0.2457"
      ]
     },
     "execution_count": 23,
     "metadata": {},
     "output_type": "execute_result"
    }
   ],
   "source": [
    "ratio = calculate.geo.ratio\n",
    "ratio.head()"
   ]
  },
  {
   "cell_type": "code",
   "execution_count": 27,
   "metadata": {},
   "outputs": [
    {
     "data": {
      "text/html": [
       "<div>\n",
       "<style scoped>\n",
       "    .dataframe tbody tr th:only-of-type {\n",
       "        vertical-align: middle;\n",
       "    }\n",
       "\n",
       "    .dataframe tbody tr th {\n",
       "        vertical-align: top;\n",
       "    }\n",
       "\n",
       "    .dataframe thead th {\n",
       "        text-align: right;\n",
       "    }\n",
       "</style>\n",
       "<table border=\"1\" class=\"dataframe\">\n",
       "  <thead>\n",
       "    <tr style=\"text-align: right;\">\n",
       "      <th></th>\n",
       "      <th>geoid_ct2010</th>\n",
       "      <th>geoid_ct2020</th>\n",
       "      <th>ratio</th>\n",
       "    </tr>\n",
       "  </thead>\n",
       "  <tbody>\n",
       "    <tr>\n",
       "      <th>1266</th>\n",
       "      <td>36061007000</td>\n",
       "      <td>36061007001</td>\n",
       "      <td>0.46658</td>\n",
       "    </tr>\n",
       "    <tr>\n",
       "      <th>1267</th>\n",
       "      <td>36061007000</td>\n",
       "      <td>36061007002</td>\n",
       "      <td>0.53342</td>\n",
       "    </tr>\n",
       "  </tbody>\n",
       "</table>\n",
       "</div>"
      ],
      "text/plain": [
       "     geoid_ct2010 geoid_ct2020    ratio\n",
       "1266  36061007000  36061007001  0.46658\n",
       "1267  36061007000  36061007002  0.53342"
      ]
     },
     "execution_count": 27,
     "metadata": {},
     "output_type": "execute_result"
    }
   ],
   "source": [
    "ratio.loc[ratio.geoid_ct2020.isin(['36061007001', '36061007002']), :]"
   ]
  },
  {
   "cell_type": "code",
   "execution_count": 29,
   "metadata": {},
   "outputs": [
    {
     "data": {
      "text/html": [
       "<div>\n",
       "<style scoped>\n",
       "    .dataframe tbody tr th:only-of-type {\n",
       "        vertical-align: middle;\n",
       "    }\n",
       "\n",
       "    .dataframe tbody tr th {\n",
       "        vertical-align: top;\n",
       "    }\n",
       "\n",
       "    .dataframe thead th {\n",
       "        text-align: right;\n",
       "    }\n",
       "</style>\n",
       "<table border=\"1\" class=\"dataframe\">\n",
       "  <thead>\n",
       "    <tr style=\"text-align: right;\">\n",
       "      <th></th>\n",
       "      <th>census_geoid</th>\n",
       "      <th>labs_geoid</th>\n",
       "      <th>geotype</th>\n",
       "      <th>labs_geotype</th>\n",
       "      <th>pff_variable</th>\n",
       "      <th>c</th>\n",
       "      <th>e</th>\n",
       "      <th>m</th>\n",
       "      <th>p</th>\n",
       "      <th>z</th>\n",
       "    </tr>\n",
       "  </thead>\n",
       "  <tbody>\n",
       "    <tr>\n",
       "      <th>2029</th>\n",
       "      <td>36061007000</td>\n",
       "      <td>1007000</td>\n",
       "      <td>tract</td>\n",
       "      <td>CT2010</td>\n",
       "      <td>aghhinc</td>\n",
       "      <td>10.7</td>\n",
       "      <td>729069900.0</td>\n",
       "      <td>128251453.0</td>\n",
       "      <td>NaN</td>\n",
       "      <td>NaN</td>\n",
       "    </tr>\n",
       "  </tbody>\n",
       "</table>\n",
       "</div>"
      ],
      "text/plain": [
       "     census_geoid labs_geoid geotype labs_geotype pff_variable     c  \\\n",
       "2029  36061007000    1007000   tract       CT2010      aghhinc  10.7   \n",
       "\n",
       "                e            m   p   z  \n",
       "2029  729069900.0  128251453.0 NaN NaN  "
      ]
     },
     "execution_count": 29,
     "metadata": {},
     "output_type": "execute_result"
    }
   ],
   "source": [
    "df2010.loc[df2010.census_geoid == '36061007000', :]"
   ]
  },
  {
   "cell_type": "code",
   "execution_count": 30,
   "metadata": {},
   "outputs": [
    {
     "data": {
      "text/plain": [
       "340169433.942"
      ]
     },
     "execution_count": 30,
     "metadata": {},
     "output_type": "execute_result"
    }
   ],
   "source": [
    "# 36061007001\n",
    "729069900.0*0.46658"
   ]
  },
  {
   "cell_type": "code",
   "execution_count": 31,
   "metadata": {},
   "outputs": [
    {
     "data": {
      "text/plain": [
       "388900466.058"
      ]
     },
     "execution_count": 31,
     "metadata": {},
     "output_type": "execute_result"
    }
   ],
   "source": [
    "# 36061007002\n",
    "729069900.0*0.53342"
   ]
  }
 ],
 "metadata": {
  "interpreter": {
   "hash": "75371cd3c5ecd442c3beab879b92f620aa5f133f8c54bee4eee1a26c01085919"
  },
  "kernelspec": {
   "display_name": "Python 3.9.2 64-bit ('pff-factfinder-Gy5E4KFG-py3.9': poetry)",
   "name": "python3"
  },
  "language_info": {
   "codemirror_mode": {
    "name": "ipython",
    "version": 3
   },
   "file_extension": ".py",
   "mimetype": "text/x-python",
   "name": "python",
   "nbconvert_exporter": "python",
   "pygments_lexer": "ipython3",
   "version": "3.9.2"
  },
  "orig_nbformat": 4
 },
 "nbformat": 4,
 "nbformat_minor": 2
}
