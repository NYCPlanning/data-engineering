{
 "cells": [
  {
   "cell_type": "code",
   "execution_count": 1,
   "metadata": {},
   "outputs": [
    {
     "data": {
      "text/plain": [
       "True"
      ]
     },
     "execution_count": 1,
     "metadata": {},
     "output_type": "execute_result"
    }
   ],
   "source": [
    "import pandas as pd\n",
    "import geopandas as gpd\n",
    "import re\n",
    "import os\n",
    "from pathlib import Path\n",
    "from sqlalchemy import create_engine, text\n",
    "from dotenv import load_dotenv\n",
    "\n",
    "load_dotenv()"
   ]
  },
  {
   "cell_type": "markdown",
   "metadata": {},
   "source": [
    "## Exploring feasibility of layering parks properties dataset into db-checkbook"
   ]
  },
  {
   "cell_type": "markdown",
   "metadata": {},
   "source": [
    "### setup"
   ]
  },
  {
   "cell_type": "code",
   "execution_count": 2,
   "metadata": {},
   "outputs": [],
   "source": [
    "csdb_df = pd.read_csv('../.output/historical_spend.csv')\n",
    "csdb_gdf = gpd.GeoDataFrame(csdb_df)\n",
    "parks_df = pd.read_csv('Parks_Properties.csv')\n",
    "parks_gdf = gpd.GeoDataFrame(parks_df)"
   ]
  },
  {
   "cell_type": "code",
   "execution_count": 3,
   "metadata": {},
   "outputs": [],
   "source": [
    "SQL_DIR = \"../sql/\"\n",
    "DB_URL = \"sqlite:///checkbook.db\"\n",
    "ENGINE = create_engine(DB_URL)"
   ]
  },
  {
   "cell_type": "markdown",
   "metadata": {},
   "source": [
    "### exploration of layering in parks properties as source of geometries\n",
    "\n",
    "files to reference from `db-cpdb`: \n",
    "- [cpdb_build_master.sql](../../db-cpdb/sql/cpdb_build_master.sql)\n",
    "- [/workspace/products/db-cpdb/sql/attributes_dpr_fmsid.sql](../../db-cpdb/sql/attributes_dpr_string_id.sql)\n",
    "- [/workspace/products/db-cpdb/sql/attributes_dpr_string_name.sql](../../db-cpdb/sql/attributes_dpr_string_name.sql)\n",
    "\n",
    "---\n",
    "Noticed that park names were being categorized as fixed assets *LAST* in the categorization query, which shouldn't be the case. This shouldn't affect % mapped but I updated the query to assign parks to fixed assets before moving onto the other categorties (lump sum, vehicles)\n",
    "\n",
    "BEFORE updating priority of DPR query in `db-checkbook/sql/categorization.sql`:\n",
    "- 8198 fixed asset projects unmapped in historical spend output \n",
    "- 930 of which mention DPR as an agency\n",
    "---\n",
    "\n",
    "running notes:\n",
    "- where does `dpr_capitalprojects` come from? \n",
    "- we are interested in mapping projects that were not mapped in the first pass of assigning geometries from CPDB. that means projects that didn't have a matching FMS_ID in CPDB versions 2017-present. however, lots of unmapped projects clearly reference park names in their contract purpose/budget codes.\n",
    "- Why would historical CPDB not include parks? Some parks may not have been part of an active capital project since pre-2017, which is the furthest back CPDB goes, so parks projects 2010-2017 are in limbo in the current CSDB output.\n",
    "- best bet would be to do partial string matching between names cols ['EAPPLY', 'ADDRESS', 'NAME311', 'SIGNNAME'] col in Parks Properties and BC/CP in CSDB\n",
    "    - this won't account for typos, differences in naming conventions ('i.e. 'Randall's Island' vs. 'Randall's Island Park') but it's a good first step \n",
    "    - if this is mildly successful and quick, continue to enhance\n",
    "    - genuine fuzzy string matching is too computationally expensive\n",
    "\n",
    "how to assess if this worked? \n",
    "- compare number of projects with geoms before and after \n"
   ]
  },
  {
   "cell_type": "code",
   "execution_count": 4,
   "metadata": {},
   "outputs": [
    {
     "name": "stdout",
     "output_type": "stream",
     "text": [
      "(2044, 35)\n",
      "Index(['ACQUISITIONDATE', 'ACRES', 'ADDRESS', 'BOROUGH', 'CLASS',\n",
      "       'COMMUNITYBOARD', 'COUNCILDISTRICT', 'DEPARTMENT', 'EAPPLY', 'GISOBJID',\n",
      "       'GISPROPNUM', 'GlobalID', 'JURISDICTION', 'LOCATION', 'MAPPED',\n",
      "       'NAME311', 'NYS_ASSEMBLY', 'NYS_SENATE', 'OBJECTID', 'OMPPROPID',\n",
      "       'PARENTID', 'PERMIT', 'PERMITDISTRICT', 'PERMITPARENT', 'PIP_RATABLE',\n",
      "       'PRECINCT', 'RETIRED', 'SIGNNAME', 'SUBCATEGORY', 'TYPECATEGORY', 'URL',\n",
      "       'US_CONGRESS', 'WATERFRONT', 'ZIPCODE', 'multipolygon'],\n",
      "      dtype='object')\n",
      "(8198, 23)\n",
      "Index(['Unnamed: 0', 'fms_id', 'check_amount', 'contract_purpose',\n",
      "       'budget_code', 'agency', 'bc_category', 'cp_category', 'cpdb_category',\n",
      "       'ccpversion', 'maprojid', 'magency', 'magencyacr', 'projectid',\n",
      "       'descriptio', 'geomsource', 'dataname', 'datasource', 'datadate',\n",
      "       'geometry', 'cartodb_id', 'has_geometry', 'final_category'],\n",
      "      dtype='object')\n"
     ]
    }
   ],
   "source": [
    "# constants\n",
    "parks_name_cols = ['EAPPLY', 'ADDRESS', 'NAME311', 'SIGNNAME']\n",
    "gdf_nogeom = csdb_gdf[csdb_gdf['has_geometry']==False]\n",
    "gdf = gdf_nogeom[gdf_nogeom['final_category']=='Fixed Asset'] # focus on unmapped fixed assets\n",
    "\n",
    "print(parks_gdf.shape)\n",
    "print(parks_gdf.columns)\n",
    "print(gdf.shape)\n",
    "print(gdf.columns)"
   ]
  },
  {
   "cell_type": "markdown",
   "metadata": {},
   "source": [
    "### what unmapped capital projects are from dpr?"
   ]
  },
  {
   "cell_type": "code",
   "execution_count": 5,
   "metadata": {},
   "outputs": [],
   "source": [
    "gdf_dpr = gdf[gdf['agency'].str.contains('Department of Parks and Recreation')]"
   ]
  },
  {
   "cell_type": "markdown",
   "metadata": {},
   "source": [
    "### what unmapped projects mention park keywords?"
   ]
  },
  {
   "cell_type": "code",
   "execution_count": 6,
   "metadata": {},
   "outputs": [
    {
     "name": "stdout",
     "output_type": "stream",
     "text": [
      "(591,)\n",
      "(230,)\n"
     ]
    }
   ],
   "source": [
    "parksearch = ['PARK', 'PLAYGROUND', 'GARDEN']\n",
    "\n",
    "temp = gdf.dropna(subset=['budget_code', 'contract_purpose'])\n",
    "bc_park = temp[temp['budget_code'].str.contains('|'.join(parksearch))]['budget_code']\n",
    "cp_park = temp[temp['contract_purpose'].str.contains('|'.join(parksearch))]['contract_purpose']\n",
    "print(bc_park.shape)\n",
    "print(cp_park.shape)"
   ]
  },
  {
   "cell_type": "markdown",
   "metadata": {},
   "source": [
    "## layering in parks properties geometries using sqlalchemy"
   ]
  },
  {
   "cell_type": "code",
   "execution_count": 8,
   "metadata": {},
   "outputs": [],
   "source": [
    "with ENGINE.connect() as conn:\n",
    "    test_gdf = gdf_dpr.head(5)\n",
    "    test_gdf.to_sql(\"csdb\", ENGINE, if_exists=\"replace\", index=False)\n",
    "    # csdb_gdf.to_sql(\"csdb\", ENGINE, if_exists=\"replace\", index=False)\n",
    "    # parks_gdf.to_sql(\"parks\", ENGINE, if_exists=\"replace\", index=False)\n",
    "    # with open(SQL_DIR + \"parks.sql\", \"r\") as query_file:\n",
    "    #     query = query_file.read()\n",
    "    # conn.execute(text(query))\n",
    "\n",
    "    # csdb_with_parks = pd.read_sql_table(\"csdb\", conn)\n",
    "   "
   ]
  },
  {
   "cell_type": "code",
   "execution_count": null,
   "metadata": {},
   "outputs": [],
   "source": [
    "csdb_with_parks[csdb_with_parks['geometry'].isnull()].shape"
   ]
  },
  {
   "cell_type": "markdown",
   "metadata": {},
   "source": [
    "591 capital projects categorized as Fixed Asset and not yet assigned a geometry have budget codes containing words relating to parks\n",
    "230 capital project with the same criteria have contract purposes containing words relating to parks\n",
    "There is some overlap between the two but this is promising regardless, given that we have only mapped 3880 capital projects so far\n",
    "\n",
    "*Idea:* filter unmapped capital projects to be as small a subset as possible, then apply fuzzy string mtching to get park name or address out of budget code / contract purpose"
   ]
  }
 ],
 "metadata": {
  "kernelspec": {
   "display_name": "Python 3",
   "language": "python",
   "name": "python3"
  },
  "language_info": {
   "codemirror_mode": {
    "name": "ipython",
    "version": 3
   },
   "file_extension": ".py",
   "mimetype": "text/x-python",
   "name": "python",
   "nbconvert_exporter": "python",
   "pygments_lexer": "ipython3",
   "version": "3.9.17"
  },
  "orig_nbformat": 4
 },
 "nbformat": 4,
 "nbformat_minor": 2
}
