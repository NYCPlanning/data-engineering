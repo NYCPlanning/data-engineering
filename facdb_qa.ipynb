{
 "cells": [
  {
   "cell_type": "markdown",
   "metadata": {},
   "source": [
    "## Setup"
   ]
  },
  {
   "cell_type": "code",
   "execution_count": 1,
   "metadata": {},
   "outputs": [],
   "source": [
    "from pathlib import Path\n",
    "import duckdb\n",
    "from dcpy.utils import duckdb as dcpduckdb\n",
    "import pandas as pd\n",
    "\n",
    "pd.set_option(\"display.max_columns\", 50)"
   ]
  },
  {
   "cell_type": "code",
   "execution_count": 2,
   "metadata": {},
   "outputs": [],
   "source": [
    "DB_PATH = Path(\"facdb_qa.db\")"
   ]
  },
  {
   "cell_type": "code",
   "execution_count": 4,
   "metadata": {},
   "outputs": [],
   "source": [
    "# # delete the database if it exists\n",
    "# DB_PATH.unlink(missing_ok=True)\n",
    "\n",
    "# # create the database with extensions and credentials\n",
    "# with duckdb.connect(str(DB_PATH)) as connection:\n",
    "#     connection.sql(f\"INSTALL spatial\")\n",
    "#     connection.sql(f\"LOAD spatial\")\n"
   ]
  },
  {
   "cell_type": "code",
   "execution_count": null,
   "metadata": {},
   "outputs": [],
   "source": [
    "# test\n",
    "with duckdb.connect(str(DB_PATH)) as connection:\n",
    "    dcpduckdb.setup_s3_secret(DB_PATH)\n",
    "    connection.sql(\n",
    "        \"DESCRIBE TABLE 's3://edm-recipes/datasets/test_nypl_libraries/20240124/test_nypl_libraries.csv'\"\n",
    "    ).show()"
   ]
  },
  {
   "cell_type": "markdown",
   "metadata": {},
   "source": [
    "## `dpr_parksproperties`"
   ]
  },
  {
   "cell_type": "code",
   "execution_count": null,
   "metadata": {},
   "outputs": [],
   "source": [
    "with duckdb.connect(str(DB_PATH)) as connection:\n",
    "    dcpduckdb.setup_s3_secret(DB_PATH)\n",
    "    connection.sql(\n",
    "        \"\"\"\n",
    "            create table dpr_parksproperties_all as\n",
    "            select * from\n",
    "            read_csv(\n",
    "                's3://edm-recipes/datasets/dpr_parksproperties/*/dpr_parksproperties.csv',\n",
    "                union_by_name = true,\n",
    "                filename = true\n",
    "            )\n",
    "        \"\"\"\n",
    "    )"
   ]
  },
  {
   "cell_type": "code",
   "execution_count": null,
   "metadata": {},
   "outputs": [],
   "source": [
    "with duckdb.connect(str(DB_PATH)) as connection:\n",
    "    connection.sql(\"SHOW ALL TABLES\").show()"
   ]
  },
  {
   "cell_type": "code",
   "execution_count": null,
   "metadata": {},
   "outputs": [],
   "source": [
    "with duckdb.connect(str(DB_PATH)) as connection:\n",
    "    connection.sql(\"describe table dpr_parksproperties_all\").show(max_rows=100)"
   ]
  },
  {
   "cell_type": "code",
   "execution_count": null,
   "metadata": {},
   "outputs": [],
   "source": [
    "with duckdb.connect(str(DB_PATH)) as connection:\n",
    "    connection.sql(\"select * from dpr_parksproperties_all\").show()"
   ]
  },
  {
   "cell_type": "code",
   "execution_count": null,
   "metadata": {},
   "outputs": [],
   "source": [
    "with duckdb.connect(str(DB_PATH)) as connection:\n",
    "    # connection.sql(\"alter table dpr_parksproperties_all add column version varchar\")\n",
    "    connection.sql(\n",
    "        \"update dpr_parksproperties_all set version = string_split(parse_dirpath(filename), '/')[-1]\"\n",
    "    )\n",
    "    connection.sql(\n",
    "        \"select version, filename, location, from dpr_parksproperties_all\"\n",
    "    ).show()"
   ]
  },
  {
   "cell_type": "code",
   "execution_count": null,
   "metadata": {},
   "outputs": [],
   "source": [
    "with duckdb.connect(str(DB_PATH)) as connection:\n",
    "    old_dpr_parksproperties = connection.sql(\n",
    "        \"select * from dpr_parksproperties_all where version = '20240109'\"\n",
    "    ).df()\n",
    "old_dpr_parksproperties"
   ]
  },
  {
   "cell_type": "code",
   "execution_count": null,
   "metadata": {},
   "outputs": [],
   "source": [
    "with duckdb.connect(str(DB_PATH)) as connection:\n",
    "    new_dpr_parksproperties = connection.sql(\n",
    "        \"select * from dpr_parksproperties_all where version = '20240814'\"\n",
    "    ).df()\n",
    "new_dpr_parksproperties"
   ]
  },
  {
   "cell_type": "markdown",
   "metadata": {},
   "source": [
    "### `typecategory`"
   ]
  },
  {
   "cell_type": "code",
   "execution_count": null,
   "metadata": {},
   "outputs": [],
   "source": [
    "new_dpr_parksproperties.compare(old_dpr_parksproperties)"
   ]
  },
  {
   "cell_type": "markdown",
   "metadata": {},
   "source": [
    "## `dca_operatingbusinesses`"
   ]
  },
  {
   "cell_type": "code",
   "execution_count": 12,
   "metadata": {},
   "outputs": [],
   "source": [
    "with duckdb.connect(str(DB_PATH)) as connection:\n",
    "    connection.sql(\"drop table if exists dca_operatingbusinesses_all\")"
   ]
  },
  {
   "cell_type": "code",
   "execution_count": null,
   "metadata": {},
   "outputs": [],
   "source": [
    "with duckdb.connect(str(DB_PATH)) as connection:\n",
    "    dcpduckdb.setup_s3_secret(DB_PATH)\n",
    "    connection.sql(\n",
    "        \"\"\"\n",
    "            create table dca_operatingbusinesses_all as\n",
    "            select * from\n",
    "            read_csv(\n",
    "                's3://edm-recipes/datasets/dca_operatingbusinesses/*/dca_operatingbusinesses.csv',\n",
    "                union_by_name = true,\n",
    "                filename = true\n",
    "            )\n",
    "        \"\"\"\n",
    "    )"
   ]
  },
  {
   "cell_type": "code",
   "execution_count": null,
   "metadata": {},
   "outputs": [],
   "source": [
    "with duckdb.connect(str(DB_PATH)) as connection:\n",
    "    connection.sql(\"SHOW ALL TABLES\").show()"
   ]
  },
  {
   "cell_type": "code",
   "execution_count": null,
   "metadata": {},
   "outputs": [],
   "source": [
    "with duckdb.connect(str(DB_PATH)) as connection:\n",
    "    connection.sql(\"describe table dca_operatingbusinesses_all\").show(max_rows=100)"
   ]
  },
  {
   "cell_type": "code",
   "execution_count": null,
   "metadata": {},
   "outputs": [],
   "source": [
    "with duckdb.connect(str(DB_PATH)) as connection:\n",
    "    connection.sql(\"select * from dca_operatingbusinesses_all\").show()"
   ]
  },
  {
   "cell_type": "code",
   "execution_count": null,
   "metadata": {},
   "outputs": [],
   "source": [
    "with duckdb.connect(str(DB_PATH)) as connection:\n",
    "    connection.sql(\"alter table dca_operatingbusinesses_all add column version varchar\")\n",
    "    connection.sql(\n",
    "        \"update dca_operatingbusinesses_all set version = string_split(parse_dirpath(filename), '/')[-1]\"\n",
    "    )\n",
    "    connection.sql(\"select version, filename, from dca_operatingbusinesses_all\").show()"
   ]
  },
  {
   "cell_type": "code",
   "execution_count": null,
   "metadata": {},
   "outputs": [],
   "source": [
    "with duckdb.connect(str(DB_PATH)) as connection:\n",
    "    dca_operatingbusinesses_versions = connection.sql(\n",
    "        \"select version, count(*) from dca_operatingbusinesses_all group by version order by version\"\n",
    "    ).df()\n",
    "dca_operatingbusinesses_versions"
   ]
  },
  {
   "cell_type": "code",
   "execution_count": null,
   "metadata": {},
   "outputs": [],
   "source": [
    "with duckdb.connect(str(DB_PATH)) as connection:\n",
    "    dca_operatingbusinesses_scrap_metal = connection.sql(\n",
    "        \"select * from dca_operatingbusinesses_all where industry = 'Scrap Metal Processor'\"\n",
    "    ).df()\n",
    "dca_operatingbusinesses_scrap_metal"
   ]
  },
  {
   "cell_type": "code",
   "execution_count": null,
   "metadata": {},
   "outputs": [],
   "source": [
    "dca_operatingbusinesses_scrap_metal.value_counts(\"version\")"
   ]
  },
  {
   "cell_type": "code",
   "execution_count": null,
   "metadata": {},
   "outputs": [],
   "source": []
  },
  {
   "cell_type": "code",
   "execution_count": null,
   "metadata": {},
   "outputs": [],
   "source": []
  },
  {
   "cell_type": "code",
   "execution_count": null,
   "metadata": {},
   "outputs": [],
   "source": []
  },
  {
   "cell_type": "code",
   "execution_count": null,
   "metadata": {},
   "outputs": [],
   "source": [
    "with duckdb.connect(str(DB_PATH)) as connection:\n",
    "    old_dca_operatingbusinesses = connection.sql(\n",
    "        \"select * from dca_operatingbusinesses_all where version = '20230714' order by dca_license_number asc\"\n",
    "    ).df()\n",
    "old_dca_operatingbusinesses"
   ]
  },
  {
   "cell_type": "code",
   "execution_count": null,
   "metadata": {},
   "outputs": [],
   "source": [
    "with duckdb.connect(str(DB_PATH)) as connection:\n",
    "    new_dca_operatingbusinesses = connection.sql(\n",
    "        \"select * from dca_operatingbusinesses_all where version = '20240809' order by dca_license_number asc\"\n",
    "    ).df()\n",
    "new_dca_operatingbusinesses"
   ]
  },
  {
   "cell_type": "code",
   "execution_count": null,
   "metadata": {},
   "outputs": [],
   "source": [
    "new_dca_operatingbusinesses.value_counts(\"industry\")"
   ]
  },
  {
   "cell_type": "code",
   "execution_count": null,
   "metadata": {},
   "outputs": [],
   "source": []
  },
  {
   "cell_type": "code",
   "execution_count": null,
   "metadata": {},
   "outputs": [],
   "source": [
    "with duckdb.connect(str(DB_PATH)) as connection:\n",
    "    new_new_dca_operatingbusinesses = connection.sql(\n",
    "        \"select * from dca_operatingbusinesses_all where version = '20241018' order by dca_license_number asc\"\n",
    "    ).df()\n",
    "new_new_dca_operatingbusinesses"
   ]
  },
  {
   "cell_type": "code",
   "execution_count": null,
   "metadata": {},
   "outputs": [],
   "source": []
  }
 ],
 "metadata": {
  "kernelspec": {
   "display_name": "venv_de_repo",
   "language": "python",
   "name": "python3"
  },
  "language_info": {
   "codemirror_mode": {
    "name": "ipython",
    "version": 3
   },
   "file_extension": ".py",
   "mimetype": "text/x-python",
   "name": "python",
   "nbconvert_exporter": "python",
   "pygments_lexer": "ipython3",
   "version": "3.12.4"
  }
 },
 "nbformat": 4,
 "nbformat_minor": 2
}
