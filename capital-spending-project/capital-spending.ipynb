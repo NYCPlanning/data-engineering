{
 "cells": [
  {
   "cell_type": "markdown",
   "metadata": {},
   "source": [
    "# Capital Spending Project Feasibility Assessment: Exploratory Analysis"
   ]
  },
  {
   "cell_type": "markdown",
   "metadata": {},
   "source": [
    "## Step 0: Setting up and importing data"
   ]
  },
  {
   "cell_type": "code",
   "execution_count": 25,
   "metadata": {},
   "outputs": [],
   "source": [
    "import pandas as pd\n",
    "import numpy as np\n",
    "import seaborn as sns\n",
    "from matplotlib import pyplot as plt\n",
    "import re\n",
    "import datetime\n",
    "import matplotlib.font_manager\n",
    "import time\n",
    "from thefuzz import fuzz\n",
    "from thefuzz import process\n",
    "import fuzzymatcher\n",
    "from matplotlib import ticker as ticker\n",
    "from ftfy import fix_text \n",
    "from sklearn.feature_extraction.text import TfidfVectorizer\n",
    "#import nmslib\n",
    "from scipy.sparse import csr_matrix\n",
    "from scipy.sparse import rand\n",
    "import sparse_dot_topn.sparse_dot_topn as ct"
   ]
  },
  {
   "cell_type": "code",
   "execution_count": 26,
   "metadata": {},
   "outputs": [],
   "source": [
    "file_names = ['checkbooknyc/Citywide-Agencies/spending_29351_05312023_040004_part_0.csv', \n",
    "'checkbooknyc/Citywide-Agencies/spending_29351_05312023_040004_part_1.csv',\n",
    "'checkbooknyc/Citywide-Agencies/spending_29351_05312023_040004_part_2.csv',\n",
    "'checkbooknyc/Citywide-Agencies/spending_29351_05312023_040004_part_3.csv']\n",
    "df0 = pd.read_csv(file_names[0])\n",
    "df1 = pd.read_csv(file_names[1])\n",
    "df2 = pd.read_csv(file_names[2])\n",
    "df3 = pd.read_csv(file_names[3])\n",
    "frames = [df0, df1, df2, df3]\n",
    "df = pd.concat(frames)\n",
    "\n",
    "facdb = pd.read_csv('facilities.csv')"
   ]
  },
  {
   "cell_type": "markdown",
   "metadata": {},
   "source": [
    "## Step 1: Data Cleaning"
   ]
  },
  {
   "cell_type": "code",
   "execution_count": 27,
   "metadata": {},
   "outputs": [],
   "source": [
    "df['Issue Date'] = pd.to_datetime(df['Issue Date'])\n",
    "df['Fiscal year'] = pd.to_datetime(df['Fiscal year'], format='%Y')\n",
    "df['Agency'] = df['Agency'].str.upper()\n",
    "df['Budget Code'] = df['Budget Code'].str.upper()\n",
    "df['Contract Purpose'] = df['Contract Purpose'].str.upper()\n",
    "df['Spending Category'] = df['Spending Category'].str.upper()\n",
    "\n",
    "df = df[df['Budget Code'].notna()]\n",
    "df = df[df['Check Amount']!=99999999]\n",
    "df = df[df['Check Amount'] >= 0]"
   ]
  },
  {
   "cell_type": "code",
   "execution_count": 28,
   "metadata": {},
   "outputs": [],
   "source": [
    "unimportant_cols = ['addressnum', 'streetname', 'city', 'zipcode',\n",
    "       'boro', 'borocode', 'bin', 'bbl', 'cd', 'nta2010', 'nta2020', 'council',\n",
    "       'schooldist', 'policeprct', 'ct2010', 'ct2020', 'servarea', 'opname', \n",
    "       'opabbrev', 'optype','overabbrev', 'overlevel', 'capacity', 'captype']\n",
    "\n",
    "facdb = facdb.drop(unimportant_cols, axis=1)\n",
    "\n",
    "facdb['facname'] = facdb['facname'].str.upper()\n",
    "facdb['address'] = facdb['address'].str.upper()\n",
    "facdb = facdb[facdb['facname'].notna()]\n",
    "facdb = facdb[facdb['geom'].notna()]\n",
    "# keep na addresses - facname more important"
   ]
  },
  {
   "cell_type": "code",
   "execution_count": null,
   "metadata": {},
   "outputs": [],
   "source": []
  },
  {
   "cell_type": "markdown",
   "metadata": {},
   "source": [
    "## Fuzzy String Matching"
   ]
  },
  {
   "cell_type": "code",
   "execution_count": 29,
   "metadata": {},
   "outputs": [],
   "source": [
    "# bpcl = facdb[facdb['facname']=='BATTERY PARK CITY LIBRARY']\n",
    "# bpcl_df = pd.concat([df.iloc[[129994]], df.iloc[[243370]]])\n",
    "\n",
    "# df_joined = fuzzymatcher.fuzzy_left_join(bpcl_df, bpcl, left_on = \"Budget Code\", right_on=\"facname\")\n",
    "# num_records = len(df_joined)\n",
    "# correct_binary = (df_joined[\"facname\"] == df_joined[\"Budget Code\"])\n",
    "# perc_correct = correct_binary.sum()/num_records"
   ]
  },
  {
   "cell_type": "code",
   "execution_count": 30,
   "metadata": {},
   "outputs": [],
   "source": [
    "# brute force regex\n",
    "# regex_pattern = '(\\d+\\s+AVE|\\d+\\s+STREET|BLOCK|LOT|\\d+\\s+ST|\\d+\\s+AVENUE)+'\n",
    "# pattern_results = df['Budget Code'].apply(lambda x: re.findall(regex_pattern, str(x))[0] if re.findall(regex_pattern, str(x)) != [] else None)\n",
    "\n",
    "# df['Street Info'] = pattern_results"
   ]
  },
  {
   "cell_type": "code",
   "execution_count": 31,
   "metadata": {},
   "outputs": [],
   "source": [
    "# num_mentions = df[df['Street Info'].notnull()].shape[0]\n",
    "# print(\"Proportion of all rows from Checkbook NYC with street mentions: {}\".format(num_mentions/df.shape[0]))"
   ]
  },
  {
   "cell_type": "markdown",
   "metadata": {},
   "source": [
    "# Department of Education: A very bad example of record linkage"
   ]
  },
  {
   "cell_type": "code",
   "execution_count": 32,
   "metadata": {},
   "outputs": [],
   "source": [
    "# identify faciltiies\n",
    "doe_df = df[df['Agency']=='DEPARTMENT OF EDUCATION']\n",
    "\n",
    "overagency = ['NYC Department of Education']\n",
    "facgroup = ['DAY CARE AND PRE-KINDERGARTEN', 'YOUTH SERVICES', 'CAMPS', 'VOCATIONAL AND PROPRIETARY SCHOOLS', 'SCHOOLS (K-12)', 'LIBRARIES', 'HIGHER EDUCATION']\n",
    "facsubgrp = ['AFTER-SCHOOL PROGRAMS', 'PROPRIETARY SCHOOLS', 'CHARTER K-12 SCHOOLS', 'PUBLIC K-12 SCHOOLS', 'NON-PUBLIC K-12 SCHOOLS', \n",
    "'PUBLIC AND PRIVATE SPECIAL EDUCATION SCHOOLS', 'GED AND ALTERNATIVE HIGH SCHOOL EQUIVALENCY', 'PRESCHOOLS FOR STUDENTS WITH DISABILITIES', \n",
    "'HEAD START', 'COLLEGES OR UNIVERSITIES', 'DOE UNIVERSAL PRE-KINDERGARTEN']\n",
    "facdomain = ['EDUCATION, CHILD WELFARE, AND YOUTH']\n",
    "\n",
    "doe_facdb = facdb[['facname', 'address']][(facdb['overagency'].isin(overagency)) \\\n",
    "     | (facdb['facgroup'].isin(facgroup)) \\\n",
    "     | (facdb['facsubgrp'].isin(facsubgrp)) \\\n",
    "     | (facdb['facdomain'].isin(facdomain))]"
   ]
  },
  {
   "cell_type": "code",
   "execution_count": 33,
   "metadata": {},
   "outputs": [
    {
     "name": "stdout",
     "output_type": "stream",
     "text": [
      "Time elapsed: 27.471531629562378\n"
     ]
    }
   ],
   "source": [
    "# Perform fuzzy matching and left join on 'facname'\n",
    "start = time.time()\n",
    "matched_results_facname = fuzzymatcher.fuzzy_left_join(doe_df, doe_facdb, left_on='Budget Code', right_on='facname')\n",
    "matched_results_facname = matched_results_facname[matched_results_facname['best_match_score'] > 0.3]\n",
    "\n",
    "# Perform fuzzy matching and left join on 'address'\n",
    "matched_results_address = fuzzymatcher.fuzzy_left_join(doe_df, doe_facdb, left_on='Budget Code', right_on='address')\n",
    "matched_results_address = matched_results_address[matched_results_address['best_match_score'] > 0.3]\n",
    "\n",
    "\n",
    "# Combine the matched results from both joins\n",
    "combined_results = pd.concat([matched_results_facname, matched_results_address])\n",
    "end = time.time()\n",
    "print(\"Time elapsed: {}\".format(end-start))"
   ]
  },
  {
   "cell_type": "code",
   "execution_count": 52,
   "metadata": {},
   "outputs": [
    {
     "name": "stdout",
     "output_type": "stream",
     "text": [
      "Number of checks by DOE: 1500\n",
      "Percent of total $ disbursed by DOE: 0.2235927005877458\n",
      "Number of matches on DOE checks using fuzzy string matching: 36\n",
      "Percent of records matched: 0.024\n",
      "Percent of total money disbursed by DOE matched: 0.00286363600113958\n"
     ]
    },
    {
     "data": {
      "text/html": [
       "<div>\n",
       "<style scoped>\n",
       "    .dataframe tbody tr th:only-of-type {\n",
       "        vertical-align: middle;\n",
       "    }\n",
       "\n",
       "    .dataframe tbody tr th {\n",
       "        vertical-align: top;\n",
       "    }\n",
       "\n",
       "    .dataframe thead th {\n",
       "        text-align: right;\n",
       "    }\n",
       "</style>\n",
       "<table border=\"1\" class=\"dataframe\">\n",
       "  <thead>\n",
       "    <tr style=\"text-align: right;\">\n",
       "      <th></th>\n",
       "      <th>best_match_score</th>\n",
       "      <th>Agency</th>\n",
       "      <th>Budget Code</th>\n",
       "      <th>facname</th>\n",
       "      <th>address</th>\n",
       "      <th>Check Amount</th>\n",
       "      <th>Issue Date</th>\n",
       "    </tr>\n",
       "  </thead>\n",
       "  <tbody>\n",
       "    <tr>\n",
       "      <th>211349</th>\n",
       "      <td>0.511739</td>\n",
       "      <td>DEPARTMENT OF EDUCATION</td>\n",
       "      <td>CS04 (BRONX CHARTER SCHOOL FOR THE ARTS, 950-9)</td>\n",
       "      <td>BRONX CHARTER SCHOOL FOR THE ARTS</td>\n",
       "      <td>950 LONGFELLOW AVENUE</td>\n",
       "      <td>494000.0</td>\n",
       "      <td>2012-01-05</td>\n",
       "    </tr>\n",
       "    <tr>\n",
       "      <th>214229</th>\n",
       "      <td>0.664189</td>\n",
       "      <td>DEPARTMENT OF EDUCATION</td>\n",
       "      <td>CS14 (SUCCESS ACADEMY JAMAICA CHARTER SCHOOL,)</td>\n",
       "      <td>SUCCESS ACADEMY CHARTER SCHOOL - SOUTH JAMAICA</td>\n",
       "      <td>120-27 141 STREET</td>\n",
       "      <td>300000.0</td>\n",
       "      <td>2016-01-06</td>\n",
       "    </tr>\n",
       "  </tbody>\n",
       "</table>\n",
       "</div>"
      ],
      "text/plain": [
       "        best_match_score                   Agency  \\\n",
       "211349          0.511739  DEPARTMENT OF EDUCATION   \n",
       "214229          0.664189  DEPARTMENT OF EDUCATION   \n",
       "\n",
       "                                            Budget Code  \\\n",
       "211349  CS04 (BRONX CHARTER SCHOOL FOR THE ARTS, 950-9)   \n",
       "214229   CS14 (SUCCESS ACADEMY JAMAICA CHARTER SCHOOL,)   \n",
       "\n",
       "                                               facname                address  \\\n",
       "211349               BRONX CHARTER SCHOOL FOR THE ARTS  950 LONGFELLOW AVENUE   \n",
       "214229  SUCCESS ACADEMY CHARTER SCHOOL - SOUTH JAMAICA      120-27 141 STREET   \n",
       "\n",
       "        Check Amount Issue Date  \n",
       "211349      494000.0 2012-01-05  \n",
       "214229      300000.0 2016-01-06  "
      ]
     },
     "execution_count": 52,
     "metadata": {},
     "output_type": "execute_result"
    }
   ],
   "source": [
    "# summary stats about DOE\n",
    "print(\"Number of checks by DOE: {}\".format(doe_df.shape[0]))\n",
    "print(\"Percent of total $ disbursed by DOE: {}\".format(sum(doe_df['Check Amount'])/sum(df['Check Amount'])))\n",
    "print(\"Number of matches on DOE checks using fuzzy string matching: {}\".format(combined_results.shape[0]))\n",
    "print(\"Percent of records matched: {}\".format(combined_results.shape[0]/doe_df.shape[0]))\n",
    "print(\"Percent of total money disbursed by DOE matched: {}\".format(sum(combined_results['Check Amount']/sum(doe_df['Check Amount']))))\n",
    "\n",
    "doe_sample = combined_results.sample(2)\n",
    "doe_sample.loc[:, ['best_match_score', 'Agency', 'Budget Code', 'facname', 'address', 'Check Amount', 'Issue Date']]"
   ]
  },
  {
   "cell_type": "markdown",
   "metadata": {},
   "source": [
    "# another department"
   ]
  },
  {
   "cell_type": "code",
   "execution_count": null,
   "metadata": {},
   "outputs": [],
   "source": [
    "# identify faciltiies\n",
    "doe_df = df[df['Agency']=='DEPARTMENT OF EDUCATION']\n",
    "\n",
    "overagency = ['NYC Department of Education']"
   ]
  },
  {
   "cell_type": "markdown",
   "metadata": {},
   "source": [
    "# SCA as a bad example \n"
   ]
  },
  {
   "cell_type": "code",
   "execution_count": 35,
   "metadata": {},
   "outputs": [],
   "source": [
    "# sca_df = df[df['Agency']=='SCHOOL CONSTRUCTION AUTHORITY']\n",
    "\n",
    "# # Perform fuzzy matching and left join on 'facname'\n",
    "# sca_matched_results_facname = fuzzymatcher.fuzzy_left_join(sca_df, doe_facdb, left_on='Budget Code', right_on='facname')\n",
    "# sca_matched_results_facname = sca_matched_results_facname[sca_matched_results_facname['best_match_score'] > 0.3]\n",
    "\n",
    "# # Perform fuzzy matching and left join on 'address'\n",
    "# sca_matched_results_address = fuzzymatcher.fuzzy_left_join(sca_df, doe_facdb, left_on='Budget Code', right_on='address')\n",
    "# sca_matched_results_address = sca_matched_results_address[sca_matched_results_address['best_match_score'] > 0.3]\n",
    "\n",
    "\n",
    "# # Combine the matched results from both joins\n",
    "# sca_combined_results = pd.concat([matched_results_facname, matched_results_address])"
   ]
  },
  {
   "cell_type": "code",
   "execution_count": 36,
   "metadata": {},
   "outputs": [
    {
     "name": "stdout",
     "output_type": "stream",
     "text": [
      "1742833\n",
      "Index(['Agency', 'Associated Prime Vendor', 'Budget Code', 'Capital Project',\n",
      "       'Check Amount', 'Contract ID', 'Contract Purpose', 'Department',\n",
      "       'Document ID', 'Emerging Business', 'Expense Category', 'Fiscal year',\n",
      "       'Industry', 'Issue Date', 'M/WBE Category', 'Payee Name',\n",
      "       'Spending Category', 'Sub Contract Reference ID', 'Sub Vendor',\n",
      "       'Woman Owned Business'],\n",
      "      dtype='object')\n"
     ]
    }
   ],
   "source": [
    "# grouping checks together\n",
    "\n",
    "print(df.shape[0])\n",
    "print(df.columns)\n",
    "\n",
    "projects = df.groupby(['Capital Project', 'Fiscal year']).agg({'Check Amount': 'sum', \n",
    "'Agency':'first', 'Budget Code': 'first'\n",
    "})\n",
    "\n",
    "agencies = df['Agency'].unique()\n",
    "agency_dict= {}\n",
    "\n",
    "for a in agencies:\n",
    "    agency_dict[a] = projects[projects['Agency']==a]"
   ]
  },
  {
   "cell_type": "code",
   "execution_count": 68,
   "metadata": {},
   "outputs": [
    {
     "name": "stdout",
     "output_type": "stream",
     "text": [
      "['EDUCATION, CHILD WELFARE, AND YOUTH' 'HEALTH AND HUMAN SERVICES'\n",
      " 'PUBLIC SAFETY, EMERGENCY SERVICES, AND ADMINISTRATION OF JUSTICE'\n",
      " 'PARKS, GARDENS, AND HISTORICAL SITES'\n",
      " 'CORE INFRASTRUCTURE AND TRANSPORTATION'\n",
      " 'LIBRARIES AND CULTURAL PROGRAMS' 'ADMINISTRATION OF GOVERNMENT']\n",
      "['CHILD SERVICES AND WELFARE' 'YOUTH SERVICES'\n",
      " 'DAY CARE AND PRE-KINDERGARTEN' 'CAMPS' 'HUMAN SERVICES' 'HEALTH CARE'\n",
      " 'ADULT SERVICES' 'JUSTICE AND CORRECTIONS' 'HISTORICAL SITES'\n",
      " 'TRANSPORTATION' 'VOCATIONAL AND PROPRIETARY SCHOOLS' 'PARKS AND PLAZAS'\n",
      " 'CULTURAL INSTITUTIONS' 'SOLID WASTE' 'SCHOOLS (K-12)' 'LIBRARIES'\n",
      " 'PUBLIC SAFETY' 'OFFICES, TRAINING, AND TESTING' 'HIGHER EDUCATION'\n",
      " 'CITY AGENCY PARKING, MAINTENANCE, AND STORAGE' 'WATER AND WASTEWATER'\n",
      " 'EMERGENCY SERVICES' 'MATERIAL SUPPLIES AND MARKETS' 'OTHER PROPERTY'\n",
      " 'TELECOMMUNICATIONS']\n",
      "71\n"
     ]
    }
   ],
   "source": [
    "all_facdomains = facdb['facdomain'].unique()\n",
    "print(facdb['facdomain'].unique())\n",
    "all_facgroups = facdb['facgroup'].unique()\n",
    "print(facdb['facgroup'].unique())\n",
    "all_facsubgrps = facdb['facsubgrp'].unique()\n",
    "print(len(facdb['facsubgrp'].unique()))"
   ]
  },
  {
   "cell_type": "code",
   "execution_count": 60,
   "metadata": {},
   "outputs": [],
   "source": [
    "parks_df = agency_dict['DEPARTMENT OF PARKS AND RECREATION']\n",
    "parks_groups = ['HISTORICAL SITES','PARKS AND PLAZAS',\n",
    "'CULTURAL INSTITUTIONS', 'CITY AGENCY PARKING, MAINTENANCE, AND STORAGE']\n",
    "parks_domains = ['PARKS, GARDENS, AND HISTORICAL SITES']\n",
    "parks_subgroups = ['PARKS','RECREATION AND WATERFRONT SITES', 'OTHER CULTURAL INSTITUTIONS', \n",
    "'GARDENS', 'MAINTENANCE AND GARAGES', 'PRESERVES AND CONSERVATION AREAS']\n",
    "parks_facdb = facdb[(facdb['overagency']=='NYC Department of Parks and Recreation')|facdb['overagency']=='The New York State Office of Parks, Recreation, and Historic Preservation']\n",
    "\n",
    "parks_facdb = facdb[['facname', 'address', 'geom']][(facdb['overagency']=='NYC Department of Parks and Recreation') \\\n",
    "     | (facdb['overagency']=='The New York State Office of Parks, Recreation, and Historic Preservation') \\\n",
    "     | (facdb['facgroup'].isin(parks_groups)) \\\n",
    "     | (facdb['facsubgrp'].isin(parks_subgroups)) \\\n",
    "     | (facdb['facdomain'].isin(parks_domains))]"
   ]
  },
  {
   "cell_type": "code",
   "execution_count": 61,
   "metadata": {},
   "outputs": [
    {
     "name": "stdout",
     "output_type": "stream",
     "text": [
      "17686\n",
      "5987\n"
     ]
    }
   ],
   "source": [
    "print(parks_df.shape[0])\n",
    "print(parks_facdb.shape[0])"
   ]
  },
  {
   "cell_type": "code",
   "execution_count": 54,
   "metadata": {},
   "outputs": [
    {
     "name": "stdout",
     "output_type": "stream",
     "text": [
      "time elapsed: 204.24222993850708\n"
     ]
    }
   ],
   "source": [
    "# Perform fuzzy matching and left join on 'facname'\n",
    "start = time.time()\n",
    "parks_matched_results_facname = fuzzymatcher.fuzzy_left_join(parks_df, parks_facdb, left_on='Budget Code', right_on='facname')\n",
    "parks_matched_results_facname = parks_matched_results_facname[parks_matched_results_facname['best_match_score'] > 0.3]\n",
    "\n",
    "# Perform fuzzy matching and left join on 'address'\n",
    "parks_matched_results_address = fuzzymatcher.fuzzy_left_join(parks_df, parks_facdb, left_on='Budget Code', right_on='address')\n",
    "parks_matched_results_address = parks_matched_results_address[parks_matched_results_address['best_match_score'] > 0.3]\n",
    "\n",
    "\n",
    "# Combine the matched results from both joins\n",
    "parks_combined_results = pd.concat([parks_matched_results_facname, parks_matched_results_address])\n",
    "end = time.time()\n",
    "\n",
    "print(\"time elapsed: {}\".format(end-start))"
   ]
  },
  {
   "cell_type": "code",
   "execution_count": 63,
   "metadata": {},
   "outputs": [
    {
     "name": "stdout",
     "output_type": "stream",
     "text": [
      "Sum of checks issued by Department of Parks and Recreation: 5151897130.099985\n",
      "Percent of total $ disbursed by Department of Parks and Recreation: 0.038550327739470175\n",
      "Number of matches on Department of Parks and Recreation checks using fuzzy string matching: 583\n",
      "Percent of money matched: 0.035950712939876894\n"
     ]
    },
    {
     "data": {
      "text/html": [
       "<div>\n",
       "<style scoped>\n",
       "    .dataframe tbody tr th:only-of-type {\n",
       "        vertical-align: middle;\n",
       "    }\n",
       "\n",
       "    .dataframe tbody tr th {\n",
       "        vertical-align: top;\n",
       "    }\n",
       "\n",
       "    .dataframe thead th {\n",
       "        text-align: right;\n",
       "    }\n",
       "</style>\n",
       "<table border=\"1\" class=\"dataframe\">\n",
       "  <thead>\n",
       "    <tr style=\"text-align: right;\">\n",
       "      <th></th>\n",
       "      <th>best_match_score</th>\n",
       "      <th>Agency</th>\n",
       "      <th>Budget Code</th>\n",
       "      <th>facname</th>\n",
       "      <th>address</th>\n",
       "      <th>Check Amount</th>\n",
       "    </tr>\n",
       "  </thead>\n",
       "  <tbody>\n",
       "    <tr>\n",
       "      <th>842539</th>\n",
       "      <td>0.421625</td>\n",
       "      <td>DEPARTMENT OF PARKS AND RECREATION</td>\n",
       "      <td>MEA3 (FLUSHING MEADOWS CORONA PARK, QNS: HABIT)</td>\n",
       "      <td>FLUSHING MEADOWS CORONA PARK</td>\n",
       "      <td>NaN</td>\n",
       "      <td>5435.68</td>\n",
       "    </tr>\n",
       "    <tr>\n",
       "      <th>872733</th>\n",
       "      <td>0.332607</td>\n",
       "      <td>DEPARTMENT OF PARKS AND RECREATION</td>\n",
       "      <td>JVBC (JUNIPER VALLEY PARK, QNS: RECONST EXISTI)</td>\n",
       "      <td>JUNIPER VALLEY PARK</td>\n",
       "      <td>71-01 JUNIPER BLVD SOUTH</td>\n",
       "      <td>6275.00</td>\n",
       "    </tr>\n",
       "  </tbody>\n",
       "</table>\n",
       "</div>"
      ],
      "text/plain": [
       "        best_match_score                              Agency  \\\n",
       "842539          0.421625  DEPARTMENT OF PARKS AND RECREATION   \n",
       "872733          0.332607  DEPARTMENT OF PARKS AND RECREATION   \n",
       "\n",
       "                                            Budget Code  \\\n",
       "842539  MEA3 (FLUSHING MEADOWS CORONA PARK, QNS: HABIT)   \n",
       "872733  JVBC (JUNIPER VALLEY PARK, QNS: RECONST EXISTI)   \n",
       "\n",
       "                             facname                   address  Check Amount  \n",
       "842539  FLUSHING MEADOWS CORONA PARK                       NaN       5435.68  \n",
       "872733           JUNIPER VALLEY PARK  71-01 JUNIPER BLVD SOUTH       6275.00  "
      ]
     },
     "execution_count": 63,
     "metadata": {},
     "output_type": "execute_result"
    }
   ],
   "source": [
    "# summary stats about parks\n",
    "print(\"Sum of checks issued by Department of Parks and Recreation: {}\".format(sum(parks_df['Check Amount'])))\n",
    "print(\"Percent of total $ disbursed by Department of Parks and Recreation: {}\".format(sum(parks_df['Check Amount'])/sum(df['Check Amount'])))\n",
    "print(\"Number of matches on Department of Parks and Recreation checks using fuzzy string matching: {}\".format(parks_combined_results.shape[0]))\n",
    "print(\"Percent of money matched: {}\".format(sum(parks_combined_results['Check Amount'])/sum(parks_df['Check Amount'])))\n",
    "\n",
    "parks_sample = parks_combined_results.sample(2)\n",
    "parks_sample.loc[:, ['best_match_score', 'Agency', 'Budget Code', 'facname', 'address', 'Check Amount']]"
   ]
  },
  {
   "cell_type": "markdown",
   "metadata": {},
   "source": [
    "# how can we make this faster?\n",
    "\n",
    "smart deduping, ngrams, grouping, knn"
   ]
  },
  {
   "cell_type": "code",
   "execution_count": 64,
   "metadata": {},
   "outputs": [],
   "source": [
    "def ngrams(string, n=10):\n",
    "    string = fix_text(string)\n",
    "    string = string.encode('ascii', errors='ignore').decode()\n",
    "    string = string.lower()\n",
    "    chars_to_remove = [\")\", \"(\", \"[\", \"]\", \"{\", \"}\", \"'\"]\n",
    "    rx = '[' + re.escape(''.join(chars_to_remove)) + ']'\n",
    "    string = re.sub(rx, '', string)\n",
    "    string = string.replace(',', ' ')\n",
    "    string = string.replace('-', ' ')\n",
    "    string = string.upper()\n",
    "    string = re.sub(' +',' ', string).strip()\n",
    "    string = ' '+string+' '\n",
    "    string = re.sub(r'[,-./]|\\sBD',r'', string)\n",
    "    ngrams = zip(*[string[i:] for i in range(n)])\n",
    "    return[''.join(ngram)for ngram in ngrams]"
   ]
  },
  {
   "cell_type": "code",
   "execution_count": 65,
   "metadata": {},
   "outputs": [
    {
     "name": "stdout",
     "output_type": "stream",
     "text": [
      "(17092, 79955)\n",
      "(24979, 226195)\n"
     ]
    }
   ],
   "source": [
    "facdb_facnames = list(facdb[facdb['facname'].notna()]['facname'].unique())\n",
    "facdb_addresses = list(facdb[facdb['address'].notna()]['address'].unique())\n",
    "\n",
    "# first, let's try addresses\n",
    "vectorizer = TfidfVectorizer(min_df=1, analyzer=ngrams)\n",
    "facdb_addresses_tf_idf_matrix = vectorizer.fit_transform(facdb_addresses)\n",
    "facdb_facnames_tf_idf_matrix = vectorizer.fit_transform(facdb_facnames)\n",
    "print(facdb_addresses_tf_idf_matrix.shape)\n",
    "print(facdb_facnames_tf_idf_matrix.shape)"
   ]
  },
  {
   "cell_type": "code",
   "execution_count": 67,
   "metadata": {},
   "outputs": [],
   "source": [
    "df_budgetcodes = list(df['Budget Code'].unique())\n",
    "\n",
    "df_tf_idf_matrix = vectorizer.transform(df_budgetcodes)"
   ]
  },
  {
   "cell_type": "code",
   "execution_count": 69,
   "metadata": {},
   "outputs": [],
   "source": [
    "def awesome_cossim_top(A, B, ntop, lower_bound=0):\n",
    "    A = A.tocsr()\n",
    "    B = B.tocsr()\n",
    "    M, _ = A.shape\n",
    "    _, N = B.shape\n",
    "\n",
    "    idx_dtype = np.int32\n",
    "    nnz_max = M*ntop\n",
    "    indptr = np.zeros(M+1, dtype=idx_dtype)\n",
    "    indices = np.zeros(nnz_max, dtype=idx_dtype)\n",
    "    data = np.zeros(nnz_max, dtype=A.dtype)\n",
    "\n",
    "    ct.sparse_dot_topn(\n",
    "        M, N, np.asarray(A.indptr, dtype=idx_dtype),\n",
    "        np.asarray(A.indices, dtype=idx_dtype),\n",
    "        A.data,\n",
    "        np.asarray(B.indptr, dtype=idx_dtype),\n",
    "        np.asarray(A.indices, dtype=idx_dtype),\n",
    "        B.data,\n",
    "        ntop,\n",
    "        lower_bound,\n",
    "        indptr, indices, data)\n",
    "    \n",
    "    return csr_matrix((data,indices,indptr),shape=(M,N))"
   ]
  },
  {
   "cell_type": "code",
   "execution_count": 70,
   "metadata": {},
   "outputs": [
    {
     "ename": "",
     "evalue": "",
     "output_type": "error",
     "traceback": [
      "\u001b[1;31mCanceled future for execute_request message before replies were done"
     ]
    },
    {
     "ename": "",
     "evalue": "",
     "output_type": "error",
     "traceback": [
      "The Kernel crashed while executing code in the the current cell or a previous cell. Please review the code in the cell(s) to identify a possible cause of the failure. Click <a href='https://aka.ms/vscodeJupyterKernelCrash'>here</a> for more info. View Jupyter <a href='command:jupyter.viewOutput'>log</a> for further details."
     ]
    }
   ],
   "source": [
    "matches = awesome_cossim_top(df_tf_idf_matrix, df_tf_idf_matrix.transpose(), 10, 0.85)"
   ]
  },
  {
   "cell_type": "code",
   "execution_count": 47,
   "metadata": {},
   "outputs": [],
   "source": [
    "def get_matches_df(sparse_matrix, name_vector, top=100):\n",
    "    non_zeros = sparse_matrix.nonzero()\n",
    "    sparserows = non_zeros[0]\n",
    "    sparsecols = non_zeros[1]\n",
    "\n",
    "    if top:\n",
    "        nr_matches = top\n",
    "    else:\n",
    "        nr_matches = sparsecols.size\n",
    "\n",
    "    left_side = np.empty([nr_matches],dtype=object)\n",
    "    right_side = np.empty([nr_matches],dtype=object)\n",
    "    similarity = np.zeros(nr_matches)\n",
    "\n",
    "    for index in range(0, nr_matches):\n",
    "        left_side[index] = name_vector[sparserows[index]]\n",
    "        right_side[index] = name_vector[sparsecols[index]]\n",
    "        similarity[index] = sparse_matrix.data[index]\n",
    "\n",
    "    return pd.DataFrame({'left_side': left_side,\n",
    "    'right_side': right_side,\n",
    "    'similarity:': similarity})"
   ]
  },
  {
   "cell_type": "code",
   "execution_count": 48,
   "metadata": {},
   "outputs": [],
   "source": [
    "# matches_df = get_matches_df(matches, facdb_facnames, top=1000)\n",
    "# #matches_df = matches_df[matches_df['similarity']<0.99999]\n",
    "# matches_df.sample(20)"
   ]
  }
 ],
 "metadata": {
  "kernelspec": {
   "display_name": "Python 3.11.3 ('dcp')",
   "language": "python",
   "name": "python3"
  },
  "language_info": {
   "codemirror_mode": {
    "name": "ipython",
    "version": 3
   },
   "file_extension": ".py",
   "mimetype": "text/x-python",
   "name": "python",
   "nbconvert_exporter": "python",
   "pygments_lexer": "ipython3",
   "version": "3.11.3"
  },
  "orig_nbformat": 4,
  "vscode": {
   "interpreter": {
    "hash": "f10cfb6677a17cec9a3464eac6be38232c3e9ffbd2de13988056aee8f13fc0f8"
   }
  }
 },
 "nbformat": 4,
 "nbformat_minor": 2
}
