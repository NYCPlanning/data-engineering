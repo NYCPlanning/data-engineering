{
 "cells": [
  {
   "cell_type": "code",
   "execution_count": 1,
   "metadata": {},
   "outputs": [],
   "source": [
    "import pandas as pd\n",
    "import numpy as np\n",
    "import re\n",
    "import datetime\n",
    "import time\n",
    "import geopandas as gpd\n",
    "import geodatasets\n",
    "import contextily as cx\n",
    "import matplotlib.pyplot as plt\n",
    "import matplotlib.font_manager\n",
    "from matplotlib import ticker\n",
    "import seaborn as sns\n",
    "import os"
   ]
  },
  {
   "cell_type": "markdown",
   "metadata": {},
   "source": [
    "# Exploring categorization differences"
   ]
  },
  {
   "cell_type": "markdown",
   "metadata": {},
   "source": [
    "### Are there significant differences in the assignment categories?\n",
    "\n",
    "Notes from Week 4 Fellows check-in:\n",
    "- are nulls in CPDB being replaced with values?\n",
    "- same values for both methods vs. different values for both methods\n",
    "- there are less nulls, there are more nulls, etc\n",
    "- same or null in Checkbook NYC cat compared to CPDB is okay\n",
    "- DIFFERENT in checkbook NYC cat compared to CPDB is not okay \n",
    "- use CPDB categories as the 'truth' and compare to that\n",
    "- especially interested in cases where CPDB assigned the rows NULL, but Checkbook NYC gave them a category \n",
    "- do categories match between CPDB and checkbook NYC? "
   ]
  },
  {
   "cell_type": "code",
   "execution_count": 2,
   "metadata": {},
   "outputs": [],
   "source": [
    "checkbook = pd.read_csv('../data/checkbooknyc_geometries_with_cats.csv')\n",
    "checkbook = checkbook[checkbook['_merge']=='both'] # filter to only include projects where geometries were joined "
   ]
  },
  {
   "cell_type": "code",
   "execution_count": 3,
   "metadata": {},
   "outputs": [],
   "source": [
    "# clean join\n",
    "checkbook = checkbook.rename(columns={'typecatego':'cpdb_category', 'BudgetCode_Categories':'bc_category', 'Contracts_Categories': 'cp_category'})\n",
    "checkbook['cpdb_category'].fillna('None', inplace=True)\n",
    "checkbook['bc_category'].fillna('None', inplace=True)\n",
    "checkbook['cp_category'].fillna('None', inplace=True)"
   ]
  },
  {
   "cell_type": "markdown",
   "metadata": {},
   "source": [
    "## Add logic to implement high sensitivty method: assign category based on priorities (Fixed Asset --> ITT --> Lump Sum --> None)"
   ]
  },
  {
   "cell_type": "code",
   "execution_count": 22,
   "metadata": {},
   "outputs": [
    {
     "data": {
      "text/plain": [
       "array(['Fixed Asset', 'ITT, Vehicles, and Equipment', 'None', 'Lump Sum'],\n",
       "      dtype=object)"
      ]
     },
     "execution_count": 22,
     "metadata": {},
     "output_type": "execute_result"
    }
   ],
   "source": [
    "# vals\n",
    "cols = ['cpdb_category', 'bc_category', 'cp_category']\n",
    "vals = checkbook['cpdb_category'].unique()\n",
    "vals"
   ]
  },
  {
   "cell_type": "code",
   "execution_count": 19,
   "metadata": {},
   "outputs": [],
   "source": [
    "drop_cols = ['Unnamed: 0', '_merge']\n",
    "checkbook.drop(drop_cols, axis=1, inplace=True)"
   ]
  },
  {
   "cell_type": "code",
   "execution_count": 24,
   "metadata": {},
   "outputs": [],
   "source": [
    "def assign_category(row):\n",
    "    #cols = ['cpdb_category', 'bc_category', 'cp_category']\n",
    "    cats = ['Fixed Asset', 'ITT, Vehicles, and Equipment', 'Lump Sum', 'None']\n",
    "    \n",
    "    if cats[0] in row.values:\n",
    "        return cats[0]\n",
    "    elif cats[1] in row.values:\n",
    "        return cats[1]\n",
    "    elif cats[2] in row.values:\n",
    "        return cats[2]\n",
    "    else:\n",
    "        return cats[3]"
   ]
  },
  {
   "cell_type": "code",
   "execution_count": 25,
   "metadata": {},
   "outputs": [],
   "source": [
    "checkbook['final_category'] = checkbook.apply(lambda row: assign_category(row), axis=1)"
   ]
  },
  {
   "cell_type": "markdown",
   "metadata": {},
   "source": [
    "## Visualizations for new column with final category assignment\n"
   ]
  },
  {
   "cell_type": "code",
   "execution_count": 43,
   "metadata": {},
   "outputs": [
    {
     "data": {
      "text/html": [
       "<div>\n",
       "<style scoped>\n",
       "    .dataframe tbody tr th:only-of-type {\n",
       "        vertical-align: middle;\n",
       "    }\n",
       "\n",
       "    .dataframe tbody tr th {\n",
       "        vertical-align: top;\n",
       "    }\n",
       "\n",
       "    .dataframe thead th {\n",
       "        text-align: right;\n",
       "    }\n",
       "</style>\n",
       "<table border=\"1\" class=\"dataframe\">\n",
       "  <thead>\n",
       "    <tr style=\"text-align: right;\">\n",
       "      <th></th>\n",
       "      <th>Category</th>\n",
       "      <th>Count</th>\n",
       "      <th>Category Order</th>\n",
       "      <th>Color</th>\n",
       "    </tr>\n",
       "  </thead>\n",
       "  <tbody>\n",
       "    <tr>\n",
       "      <th>0</th>\n",
       "      <td>Fixed Asset</td>\n",
       "      <td>26464</td>\n",
       "      <td>0</td>\n",
       "      <td>indianred</td>\n",
       "    </tr>\n",
       "    <tr>\n",
       "      <th>1</th>\n",
       "      <td>ITT, Vehicles, and Equipment</td>\n",
       "      <td>1678</td>\n",
       "      <td>1</td>\n",
       "      <td>cornflowerblue</td>\n",
       "    </tr>\n",
       "    <tr>\n",
       "      <th>2</th>\n",
       "      <td>Lump Sum</td>\n",
       "      <td>1418</td>\n",
       "      <td>2</td>\n",
       "      <td>gold</td>\n",
       "    </tr>\n",
       "    <tr>\n",
       "      <th>3</th>\n",
       "      <td>None</td>\n",
       "      <td>253</td>\n",
       "      <td>3</td>\n",
       "      <td>lightsteelblue</td>\n",
       "    </tr>\n",
       "  </tbody>\n",
       "</table>\n",
       "</div>"
      ],
      "text/plain": [
       "                       Category  Count  Category Order           Color\n",
       "0                   Fixed Asset  26464               0       indianred\n",
       "1  ITT, Vehicles, and Equipment   1678               1  cornflowerblue\n",
       "2                      Lump Sum   1418               2            gold\n",
       "3                          None    253               3  lightsteelblue"
      ]
     },
     "execution_count": 43,
     "metadata": {},
     "output_type": "execute_result"
    }
   ],
   "source": [
    "category_order = ['Fixed Asset', 'ITT, Vehicles, and Equipment', 'Lump Sum', 'None']\n",
    "category_order_2 = ['Fixed Asset', 'Lump Sum', 'ITT, Vehicles, and Equipment', 'None']\n",
    "\n",
    "category_colors = {\n",
    "    'Fixed Asset': 'indianred', \n",
    "    'Lump Sum': 'gold', \n",
    "    'ITT, Vehicles, and Equipment': 'cornflowerblue', \n",
    "    'None': 'lightsteelblue'\n",
    "}\n",
    "\n",
    "# --- NUMBER OF PROJECTS WITH GEOMETRY BY CATEGORY\n",
    "cat_counts = checkbook.groupby('final_category')['maprojid'].count().reset_index()\n",
    "cat_counts.columns = ['Category', 'Count']\n",
    "cat_counts['Category Order'] = pd.Categorical(cat_counts['Category'], categories=category_order, ordered=True).codes\n",
    "cat_counts = cat_counts.sort_values('Category Order')\n",
    "cat_counts['Color'] = cat_counts['Category'].map(category_colors)\n",
    "\n",
    "#cat_counts.sort_values(by='Count',ascending=False, inplace=True)\n",
    "\n",
    "# --- AMOUNT OF MONEY WITH GEOMETRY BY CATEGORY\n",
    "cat_check_sum = checkbook.groupby('final_category')['Check Amount'].sum().reset_index()\n",
    "cat_check_sum.columns = ['Category', \"Sum of Check Amounts\"]\n",
    "#cat_check_sum.sort_values(by=\"Sum of Check Amounts\",ascending=False, inplace=True)\n",
    "cat_check_sum['Category Order'] = pd.Categorical(cat_counts['Category'], categories=category_order_2, ordered=True).codes\n",
    "cat_check_sum = cat_check_sum.sort_values('Category Order')\n",
    "cat_check_sum['Color'] = cat_check_sum['Category'].map(category_colors)\n",
    "\n",
    "cat_counts"
   ]
  },
  {
   "cell_type": "code",
   "execution_count": 41,
   "metadata": {},
   "outputs": [
    {
     "data": {
      "image/png": "[encoded data removed]",
      "text/plain": [
       "<Figure size 864x432 with 1 Axes>"
      ]
     },
     "metadata": {
      "needs_background": "light"
     },
     "output_type": "display_data"
    }
   ],
   "source": [
    "# --- Number of Checkbook NYC projects with a geometry, by (final) category --- \n",
    "fig, axs = plt.subplots(figsize=(12,6), nrows = 1)\n",
    "ax = axs\n",
    "ax = sns.barplot(data=cat_counts, y='Category', x='Count', ax=ax, palette = cat_counts['Color'], orient='h')\n",
    "\n",
    "for p in ax.patches:\n",
    "    width = p.get_width()\n",
    "    label = f\"{int(width):,}\"\n",
    "    x_pos = width + 5 \n",
    "    y_pos = p.get_y() + p.get_height() / 2\n",
    "    ax.annotate(label, (x_pos, y_pos), fontsize=11, fontweight='light', alpha=0.8, color='black', ha='left', va='center')\n",
    "\n",
    "# tick marks and 0-line\n",
    "sns.despine(ax=ax, bottom = True )\n",
    "ax.tick_params( left=False, bottom=False )\n",
    "ax.set_title(\"Number of projects with a geometry, by category\", fontsize=18, fontweight=\"bold\", loc=\"left\")\n",
    "ax.grid(axis='x', linestyle='-', alpha=0.5, zorder = 0 )\n",
    "ax.set_ylabel(\"\")\n",
    "ax.set_xlabel(\"Count\")\n",
    "plt.tight_layout( h_pad=1 )\n",
    "\n",
    "ax.xaxis.set_major_formatter(ticker.FuncFormatter(lambda x, pos: f\"{int(x):,}\"))\n",
    "\n",
    "fig.savefig('final_cat_viz/geoms_by_final_cat_bar.png', facecolor='white', transparent=False, bbox_inches='tight')\n",
    "plt.show()"
   ]
  },
  {
   "cell_type": "code",
   "execution_count": 46,
   "metadata": {},
   "outputs": [
    {
     "data": {
      "image/png": "[encoded data removed]",
      "text/plain": [
       "<Figure size 864x432 with 1 Axes>"
      ]
     },
     "metadata": {
      "needs_background": "light"
     },
     "output_type": "display_data"
    }
   ],
   "source": [
    "# --- Money from Checkbook NYC projects with a geometry, by (final) category --- \n",
    "fig, axs = plt.subplots(figsize=(12,6), nrows = 1)\n",
    "ax = axs\n",
    "ax = sns.barplot(data=cat_check_sum, y='Category', x='Sum of Check Amounts', ax=ax, palette = cat_check_sum['Color'], orient='h')\n",
    "\n",
    "for p in ax.patches:\n",
    "    width = p.get_width()\n",
    "    label = f\"{width / 1e9:.2f}B\"\n",
    "    x_pos = width + 5 \n",
    "    y_pos = p.get_y() + p.get_height() / 2\n",
    "    ax.annotate(label, (x_pos, y_pos), fontsize=11, fontweight='light', alpha=0.8, color='black', ha='left', va='center')\n",
    "\n",
    "# tick marks and 0-line\n",
    "sns.despine(ax=ax, bottom = True )\n",
    "ax.tick_params( left=False, bottom=False )\n",
    "ax.set_title(\"Spending captured by projects with a geometry, by category\", fontsize=18, fontweight=\"bold\", loc=\"left\")\n",
    "ax.grid(axis='x', linestyle='-', alpha=0.5, zorder = 0 )\n",
    "ax.set_ylabel(\"\")\n",
    "ax.set_xlabel(\"Sum of check amounts, in billions\")\n",
    "plt.tight_layout( h_pad=1 )\n",
    "\n",
    "ax.xaxis.set_major_locator(ticker.MultipleLocator(base=2e9))\n",
    "ax.xaxis.set_major_formatter(ticker.FuncFormatter(lambda x, pos: f\"{int(x/1e9):d}\"))\n",
    "\n",
    "fig.savefig('final_cat_viz/geoms_by_final_cat_money_bar.png', facecolor='white', transparent=False, bbox_inches='tight')\n",
    "plt.show()"
   ]
  },
  {
   "cell_type": "markdown",
   "metadata": {},
   "source": [
    "## CPDB Categories vs. Budget Code Categories (Method 1)"
   ]
  },
  {
   "cell_type": "code",
   "execution_count": 6,
   "metadata": {},
   "outputs": [],
   "source": [
    "crosstab_bc_counts = pd.crosstab(checkbook['cpdb_category'], checkbook['bc_category'], rownames=['CPDB Category'], colnames=['Budget Code Category'], margins=True, margins_name='Total')\n",
    "crosstab_bc_props_cols = pd.crosstab(checkbook['cpdb_category'], checkbook['bc_category'], rownames=['CPDB Category'], colnames=['Budget Code Category'], normalize='columns')\n",
    "crosstab_bc_props_rows = pd.crosstab(checkbook['cpdb_category'], checkbook['bc_category'], rownames=['CPDB Category'], colnames=['Budget Code Category'], normalize='index')\n",
    "crosstab_bc_props = pd.crosstab(checkbook['cpdb_category'], checkbook['bc_category'], rownames=['CPDB Category'], colnames=['Budget Code Category'], normalize=True)\n",
    "crosstab_bc_counts_nomargins = pd.crosstab(checkbook['cpdb_category'], checkbook['bc_category'], rownames=['CPDB Category'], colnames=['Budget Code Category'])\n"
   ]
  },
  {
   "cell_type": "code",
   "execution_count": 7,
   "metadata": {},
   "outputs": [],
   "source": [
    "crosstab_bc_counts_nomargins.to_clipboard(excel=True)"
   ]
  },
  {
   "cell_type": "code",
   "execution_count": 8,
   "metadata": {},
   "outputs": [],
   "source": [
    "crosstab_bc_props_rows.to_clipboard(excel=True)"
   ]
  },
  {
   "cell_type": "markdown",
   "metadata": {},
   "source": [
    "*Note: These cross tabulation numbers are calculated by looking at ONLY Checkbook NYC projects that successfully joined on CPDB geometries. 29,813 projects out of 80,932 successfully joined to CPDB geometries.*\n",
    "\n",
    "Interpretation of counts:\n",
    "- 15,127 Checkbook NYC projects with geometries are categorized as 'Fixed Asset' in both the joined CPDB geometry and when categorized using `Budget Code`. This is out of a total of 20,155 projects assigned 'Fixed Asset' by the joined CPDB geometry, and 20,868 projects assigned 'Fixed Asset' when categorized using `Budget Code`.\n",
    "- `Budget Code` assigned 713 more projects to the `Fixed Asset` category than CPDB alone. \n",
    "- 5,680 Checkbook NYC projects are not assigned a category by the joined CPDB geometry, of which 3,507 are also not categorized using `Budget Code`. This means that 2,173  projects which are not categorized in CPDB are assigned a category using the `Budget Code` column in the joined Checkbook NYC project.\n",
    "\n",
    "Interpretation of row-wise proportions:\n",
    "- It makes sense to analyze the cross-tabulation proportions row-wise, i.e. in relation to the CPDB category assignment, because we are treating the CPDB category assignments as the truth.  \n",
    "- 75.05% of projects categorized as 'Fixed Asset' by joining on CPDB have the same assignment when categorized on `Budget Code`. 14.19% of projects categorized as 'Fixed Asset' by joining on CPDB are not assigned a category when categorized on `Budget Code`. \n",
    "- 61.74% of projects not assigned a category by joining on CPDB are assigned 'Fixed Asset' when categorized on `Budget Code`. 21.79% of projects with geometries are not categorized by either approach. "
   ]
  },
  {
   "cell_type": "code",
   "execution_count": 9,
   "metadata": {},
   "outputs": [],
   "source": [
    "category_colors = {\n",
    "    'Fixed Asset': 'indianred', \n",
    "    'Lump Sum': 'gold', \n",
    "    'ITT, Vehicles, and Equipment': 'cornflowerblue', \n",
    "    'None': 'lightsteelblue'\n",
    "}"
   ]
  },
  {
   "cell_type": "code",
   "execution_count": 10,
   "metadata": {},
   "outputs": [
    {
     "name": "stderr",
     "output_type": "stream",
     "text": [
      "No artists with labels found to put in legend.  Note that artists whose label start with an underscore are ignored when legend() is called with no argument.\n"
     ]
    },
    {
     "data": {
      "image/png": "[encoded data removed]",
      "text/plain": [
       "<Figure size 864x432 with 1 Axes>"
      ]
     },
     "metadata": {
      "needs_background": "light"
     },
     "output_type": "display_data"
    }
   ],
   "source": [
    "# --- heat map\n",
    "\n",
    "fig, axs = plt.subplots(figsize=(12,6), nrows = 1)\n",
    "ax = axs\n",
    "\n",
    "sns.heatmap(\n",
    "    crosstab_bc_counts,\n",
    "    cmap = 'Blues',\n",
    "    annot = True,\n",
    "    fmt = '.0f',\n",
    "    annot_kws = {'fontsize':9},\n",
    "    cbar = False,\n",
    "    linewidths = 1,\n",
    "    linecolor = 'w',\n",
    "    ax = ax\n",
    ")\n",
    "ax.legend( loc = 'upper left', bbox_to_anchor = (1.05,1), ncol = 1, fontsize = 9 )\n",
    "#ax.set_xticklabels( [ x.strftime('%Y') for x in pivot_data ] , rotation = 0, ha = 'center' )\n",
    "ax.tick_params( axis = 'both', which = 'both', left = False, bottom = False, labelsize = 11 )\n",
    "ax.set_ylabel('')\n",
    "ax.set_title( \"Percent of check amounts disbursed by agency over time\", fontsize = 14, fontweight = 'bold', loc = 'left', color = 'black' , pad = 10 )\n",
    "\n",
    "plt.tight_layout( w_pad = 1 )\n",
    "plt.show()"
   ]
  },
  {
   "cell_type": "markdown",
   "metadata": {},
   "source": [
    "## CPDB Categories vs. Contract Purpose Categories (Method 2) "
   ]
  },
  {
   "cell_type": "code",
   "execution_count": 11,
   "metadata": {},
   "outputs": [],
   "source": [
    "crosstab_cp_counts = pd.crosstab(checkbook['cpdb_category'], checkbook['cp_category'], rownames=['CPDB Category'], colnames=['Contract Purpose Category'], margins=True, margins_name='Total')\n",
    "crosstab_cp_props_cols = pd.crosstab(checkbook['cpdb_category'], checkbook['cp_category'], rownames=['CPDB Category'], colnames=['Contract Purpose Category'], normalize='columns')\n",
    "crosstab_cp_props_rows = pd.crosstab(checkbook['cpdb_category'], checkbook['cp_category'], rownames=['CPDB Category'], colnames=['Contract Purpose Category'], normalize='index')\n",
    "crosstab_cp_props = pd.crosstab(checkbook['cpdb_category'], checkbook['cp_category'], rownames=['CPDB Category'], colnames=['Contract Purpose Category'], normalize=True)"
   ]
  },
  {
   "cell_type": "code",
   "execution_count": 12,
   "metadata": {},
   "outputs": [
    {
     "data": {
      "text/html": [
       "<div>\n",
       "<style scoped>\n",
       "    .dataframe tbody tr th:only-of-type {\n",
       "        vertical-align: middle;\n",
       "    }\n",
       "\n",
       "    .dataframe tbody tr th {\n",
       "        vertical-align: top;\n",
       "    }\n",
       "\n",
       "    .dataframe thead th {\n",
       "        text-align: right;\n",
       "    }\n",
       "</style>\n",
       "<table border=\"1\" class=\"dataframe\">\n",
       "  <thead>\n",
       "    <tr style=\"text-align: right;\">\n",
       "      <th>Contract Purpose Category</th>\n",
       "      <th>Fixed Asset</th>\n",
       "      <th>ITT, Vehicles, and Equipment</th>\n",
       "      <th>Lump Sum</th>\n",
       "      <th>None</th>\n",
       "      <th>Total</th>\n",
       "    </tr>\n",
       "    <tr>\n",
       "      <th>CPDB Category</th>\n",
       "      <th></th>\n",
       "      <th></th>\n",
       "      <th></th>\n",
       "      <th></th>\n",
       "      <th></th>\n",
       "    </tr>\n",
       "  </thead>\n",
       "  <tbody>\n",
       "    <tr>\n",
       "      <th>Fixed Asset</th>\n",
       "      <td>15221</td>\n",
       "      <td>2491</td>\n",
       "      <td>1995</td>\n",
       "      <td>448</td>\n",
       "      <td>20155</td>\n",
       "    </tr>\n",
       "    <tr>\n",
       "      <th>ITT, Vehicles, and Equipment</th>\n",
       "      <td>745</td>\n",
       "      <td>993</td>\n",
       "      <td>176</td>\n",
       "      <td>19</td>\n",
       "      <td>1933</td>\n",
       "    </tr>\n",
       "    <tr>\n",
       "      <th>Lump Sum</th>\n",
       "      <td>1251</td>\n",
       "      <td>234</td>\n",
       "      <td>512</td>\n",
       "      <td>48</td>\n",
       "      <td>2045</td>\n",
       "    </tr>\n",
       "    <tr>\n",
       "      <th>None</th>\n",
       "      <td>3645</td>\n",
       "      <td>924</td>\n",
       "      <td>858</td>\n",
       "      <td>253</td>\n",
       "      <td>5680</td>\n",
       "    </tr>\n",
       "    <tr>\n",
       "      <th>Total</th>\n",
       "      <td>20862</td>\n",
       "      <td>4642</td>\n",
       "      <td>3541</td>\n",
       "      <td>768</td>\n",
       "      <td>29813</td>\n",
       "    </tr>\n",
       "  </tbody>\n",
       "</table>\n",
       "</div>"
      ],
      "text/plain": [
       "Contract Purpose Category     Fixed Asset  ITT, Vehicles, and Equipment  \\\n",
       "CPDB Category                                                             \n",
       "Fixed Asset                         15221                          2491   \n",
       "ITT, Vehicles, and Equipment          745                           993   \n",
       "Lump Sum                             1251                           234   \n",
       "None                                 3645                           924   \n",
       "Total                               20862                          4642   \n",
       "\n",
       "Contract Purpose Category     Lump Sum  None  Total  \n",
       "CPDB Category                                        \n",
       "Fixed Asset                       1995   448  20155  \n",
       "ITT, Vehicles, and Equipment       176    19   1933  \n",
       "Lump Sum                           512    48   2045  \n",
       "None                               858   253   5680  \n",
       "Total                             3541   768  29813  "
      ]
     },
     "execution_count": 12,
     "metadata": {},
     "output_type": "execute_result"
    }
   ],
   "source": [
    "crosstab_cp_counts"
   ]
  },
  {
   "cell_type": "code",
   "execution_count": 13,
   "metadata": {},
   "outputs": [
    {
     "data": {
      "text/html": [
       "<div>\n",
       "<style scoped>\n",
       "    .dataframe tbody tr th:only-of-type {\n",
       "        vertical-align: middle;\n",
       "    }\n",
       "\n",
       "    .dataframe tbody tr th {\n",
       "        vertical-align: top;\n",
       "    }\n",
       "\n",
       "    .dataframe thead th {\n",
       "        text-align: right;\n",
       "    }\n",
       "</style>\n",
       "<table border=\"1\" class=\"dataframe\">\n",
       "  <thead>\n",
       "    <tr style=\"text-align: right;\">\n",
       "      <th>Contract Purpose Category</th>\n",
       "      <th>Fixed Asset</th>\n",
       "      <th>ITT, Vehicles, and Equipment</th>\n",
       "      <th>Lump Sum</th>\n",
       "      <th>None</th>\n",
       "    </tr>\n",
       "    <tr>\n",
       "      <th>CPDB Category</th>\n",
       "      <th></th>\n",
       "      <th></th>\n",
       "      <th></th>\n",
       "      <th></th>\n",
       "    </tr>\n",
       "  </thead>\n",
       "  <tbody>\n",
       "    <tr>\n",
       "      <th>Fixed Asset</th>\n",
       "      <td>0.755197</td>\n",
       "      <td>0.123592</td>\n",
       "      <td>0.098983</td>\n",
       "      <td>0.022228</td>\n",
       "    </tr>\n",
       "    <tr>\n",
       "      <th>ITT, Vehicles, and Equipment</th>\n",
       "      <td>0.385411</td>\n",
       "      <td>0.513709</td>\n",
       "      <td>0.091050</td>\n",
       "      <td>0.009829</td>\n",
       "    </tr>\n",
       "    <tr>\n",
       "      <th>Lump Sum</th>\n",
       "      <td>0.611736</td>\n",
       "      <td>0.114425</td>\n",
       "      <td>0.250367</td>\n",
       "      <td>0.023472</td>\n",
       "    </tr>\n",
       "    <tr>\n",
       "      <th>None</th>\n",
       "      <td>0.641725</td>\n",
       "      <td>0.162676</td>\n",
       "      <td>0.151056</td>\n",
       "      <td>0.044542</td>\n",
       "    </tr>\n",
       "  </tbody>\n",
       "</table>\n",
       "</div>"
      ],
      "text/plain": [
       "Contract Purpose Category     Fixed Asset  ITT, Vehicles, and Equipment  \\\n",
       "CPDB Category                                                             \n",
       "Fixed Asset                      0.755197                      0.123592   \n",
       "ITT, Vehicles, and Equipment     0.385411                      0.513709   \n",
       "Lump Sum                         0.611736                      0.114425   \n",
       "None                             0.641725                      0.162676   \n",
       "\n",
       "Contract Purpose Category     Lump Sum      None  \n",
       "CPDB Category                                     \n",
       "Fixed Asset                   0.098983  0.022228  \n",
       "ITT, Vehicles, and Equipment  0.091050  0.009829  \n",
       "Lump Sum                      0.250367  0.023472  \n",
       "None                          0.151056  0.044542  "
      ]
     },
     "execution_count": 13,
     "metadata": {},
     "output_type": "execute_result"
    }
   ],
   "source": [
    "crosstab_cp_props_rows"
   ]
  },
  {
   "cell_type": "markdown",
   "metadata": {},
   "source": [
    "*Note: These cross tabulation numbers are calculated by looking at ONLY Checkbook NYC projects that successfully joined on CPDB geometries. 29,813 projects out of 80,932 successfully joined to CPDB geometries.*\n",
    "\n",
    "Interpretation of counts:\n",
    "- 15,221 Checkbook NYC projects with geometries are categorized as 'Fixed Asset' in both the joined CPDB geometry and when categorized using `Contract Purpose`. This is out of a total of 20,155 projects assigned 'Fixed Asset' by the joined CPDB geometry, and 20,862 projects assigned 'Fixed Asset' when categorized using `Contract Purpose`.\n",
    "- `Contract Purpose` assigned 707 more projects to the `Fixed Asset` category than CPDB alone. \n",
    "- 5,680 Checkbook NYC projects are not assigned a category by the joined CPDB geometry, of which only 253 are also not categorized using `Contract Purpose`. \n",
    "    - This means that 5,427 projects which are not categorized in CPDB are assigned a category using `Contract Purpose`.\n",
    "- Only 768 projects with geometries are not categorized when the assignment process uses `Contract Purpose`. \n",
    "\n",
    "Interpretation of row-wise proportions:\n",
    "- 75.52% of projects categorized as 'Fixed Asset' by joining on CPDB have the same assignment when categorized on `Contract Purpose`. 9.9% of projects categorized as 'Fixed Asset' by joining on CPDB are not assigned a category when categorized on `Contract Purpose`. \n",
    "- 64.17% of projects not assigned a category by joining on CPDB are assigned 'Fixed Asset' when categorized on `Budget Code`. Only 4.45% of projects with geometries are not categorized by either approach. "
   ]
  },
  {
   "cell_type": "markdown",
   "metadata": {},
   "source": [
    "## CPDB Categories vs. both Method 1 and Method 2"
   ]
  },
  {
   "cell_type": "code",
   "execution_count": 14,
   "metadata": {},
   "outputs": [],
   "source": [
    "crosstab_counts = pd.crosstab(checkbook['cpdb_category'], [checkbook['bc_category'], checkbook['cp_category']], rownames=['CPDB Category'], colnames=['Budget Code Category', 'Contract Purpose Category'])"
   ]
  },
  {
   "cell_type": "code",
   "execution_count": 15,
   "metadata": {},
   "outputs": [
    {
     "data": {
      "text/html": [
       "<div>\n",
       "<style scoped>\n",
       "    .dataframe tbody tr th:only-of-type {\n",
       "        vertical-align: middle;\n",
       "    }\n",
       "\n",
       "    .dataframe tbody tr th {\n",
       "        vertical-align: top;\n",
       "    }\n",
       "\n",
       "    .dataframe thead tr th {\n",
       "        text-align: left;\n",
       "    }\n",
       "\n",
       "    .dataframe thead tr:last-of-type th {\n",
       "        text-align: right;\n",
       "    }\n",
       "</style>\n",
       "<table border=\"1\" class=\"dataframe\">\n",
       "  <thead>\n",
       "    <tr>\n",
       "      <th>Budget Code Category</th>\n",
       "      <th colspan=\"2\" halign=\"left\">Fixed Asset</th>\n",
       "      <th>ITT, Vehicles, and Equipment</th>\n",
       "      <th colspan=\"2\" halign=\"left\">Lump Sum</th>\n",
       "      <th colspan=\"4\" halign=\"left\">None</th>\n",
       "    </tr>\n",
       "    <tr>\n",
       "      <th>Contract Purpose Category</th>\n",
       "      <th>Fixed Asset</th>\n",
       "      <th>ITT, Vehicles, and Equipment</th>\n",
       "      <th>ITT, Vehicles, and Equipment</th>\n",
       "      <th>ITT, Vehicles, and Equipment</th>\n",
       "      <th>Lump Sum</th>\n",
       "      <th>Fixed Asset</th>\n",
       "      <th>ITT, Vehicles, and Equipment</th>\n",
       "      <th>Lump Sum</th>\n",
       "      <th>None</th>\n",
       "    </tr>\n",
       "    <tr>\n",
       "      <th>CPDB Category</th>\n",
       "      <th></th>\n",
       "      <th></th>\n",
       "      <th></th>\n",
       "      <th></th>\n",
       "      <th></th>\n",
       "      <th></th>\n",
       "      <th></th>\n",
       "      <th></th>\n",
       "      <th></th>\n",
       "    </tr>\n",
       "  </thead>\n",
       "  <tbody>\n",
       "    <tr>\n",
       "      <th>Fixed Asset</th>\n",
       "      <td>13830</td>\n",
       "      <td>1297</td>\n",
       "      <td>832</td>\n",
       "      <td>119</td>\n",
       "      <td>1217</td>\n",
       "      <td>1391</td>\n",
       "      <td>243</td>\n",
       "      <td>778</td>\n",
       "      <td>448</td>\n",
       "    </tr>\n",
       "    <tr>\n",
       "      <th>ITT, Vehicles, and Equipment</th>\n",
       "      <td>658</td>\n",
       "      <td>321</td>\n",
       "      <td>507</td>\n",
       "      <td>61</td>\n",
       "      <td>103</td>\n",
       "      <td>87</td>\n",
       "      <td>104</td>\n",
       "      <td>73</td>\n",
       "      <td>19</td>\n",
       "    </tr>\n",
       "    <tr>\n",
       "      <th>Lump Sum</th>\n",
       "      <td>1221</td>\n",
       "      <td>34</td>\n",
       "      <td>112</td>\n",
       "      <td>60</td>\n",
       "      <td>363</td>\n",
       "      <td>30</td>\n",
       "      <td>28</td>\n",
       "      <td>149</td>\n",
       "      <td>48</td>\n",
       "    </tr>\n",
       "    <tr>\n",
       "      <th>None</th>\n",
       "      <td>3194</td>\n",
       "      <td>313</td>\n",
       "      <td>440</td>\n",
       "      <td>44</td>\n",
       "      <td>451</td>\n",
       "      <td>451</td>\n",
       "      <td>127</td>\n",
       "      <td>407</td>\n",
       "      <td>253</td>\n",
       "    </tr>\n",
       "  </tbody>\n",
       "</table>\n",
       "</div>"
      ],
      "text/plain": [
       "Budget Code Category         Fixed Asset                               \\\n",
       "Contract Purpose Category    Fixed Asset ITT, Vehicles, and Equipment   \n",
       "CPDB Category                                                           \n",
       "Fixed Asset                        13830                         1297   \n",
       "ITT, Vehicles, and Equipment         658                          321   \n",
       "Lump Sum                            1221                           34   \n",
       "None                                3194                          313   \n",
       "\n",
       "Budget Code Category         ITT, Vehicles, and Equipment  \\\n",
       "Contract Purpose Category    ITT, Vehicles, and Equipment   \n",
       "CPDB Category                                               \n",
       "Fixed Asset                                           832   \n",
       "ITT, Vehicles, and Equipment                          507   \n",
       "Lump Sum                                              112   \n",
       "None                                                  440   \n",
       "\n",
       "Budget Code Category                             Lump Sum           \\\n",
       "Contract Purpose Category    ITT, Vehicles, and Equipment Lump Sum   \n",
       "CPDB Category                                                        \n",
       "Fixed Asset                                           119     1217   \n",
       "ITT, Vehicles, and Equipment                           61      103   \n",
       "Lump Sum                                               60      363   \n",
       "None                                                   44      451   \n",
       "\n",
       "Budget Code Category                None                               \\\n",
       "Contract Purpose Category    Fixed Asset ITT, Vehicles, and Equipment   \n",
       "CPDB Category                                                           \n",
       "Fixed Asset                         1391                          243   \n",
       "ITT, Vehicles, and Equipment          87                          104   \n",
       "Lump Sum                              30                           28   \n",
       "None                                 451                          127   \n",
       "\n",
       "Budget Code Category                        \n",
       "Contract Purpose Category    Lump Sum None  \n",
       "CPDB Category                               \n",
       "Fixed Asset                       778  448  \n",
       "ITT, Vehicles, and Equipment       73   19  \n",
       "Lump Sum                          149   48  \n",
       "None                              407  253  "
      ]
     },
     "execution_count": 15,
     "metadata": {},
     "output_type": "execute_result"
    }
   ],
   "source": [
    "crosstab_counts"
   ]
  }
 ],
 "metadata": {
  "kernelspec": {
   "display_name": "Python 3.11.3 ('dcp')",
   "language": "python",
   "name": "python3"
  },
  "language_info": {
   "codemirror_mode": {
    "name": "ipython",
    "version": 3
   },
   "file_extension": ".py",
   "mimetype": "text/x-python",
   "name": "python",
   "nbconvert_exporter": "python",
   "pygments_lexer": "ipython3",
   "version": "3.11.3"
  },
  "orig_nbformat": 4,
  "vscode": {
   "interpreter": {
    "hash": "f10cfb6677a17cec9a3464eac6be38232c3e9ffbd2de13988056aee8f13fc0f8"
   }
  }
 },
 "nbformat": 4,
 "nbformat_minor": 2
}
