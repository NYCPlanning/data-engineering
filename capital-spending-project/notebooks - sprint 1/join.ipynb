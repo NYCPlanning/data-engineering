{
 "cells": [
  {
   "cell_type": "code",
   "execution_count": 4,
   "metadata": {},
   "outputs": [],
   "source": [
    "import pandas as pd\n",
    "import numpy as np\n",
    "import re\n",
    "import datetime\n",
    "import time\n",
    "import geopandas as gpd\n",
    "import geodatasets\n",
    "import contextily as cx\n",
    "import matplotlib.pyplot as plt"
   ]
  },
  {
   "cell_type": "code",
   "execution_count": 5,
   "metadata": {},
   "outputs": [
    {
     "name": "stdout",
     "output_type": "stream",
     "text": [
      "80932 12478\n"
     ]
    }
   ],
   "source": [
    "checkbook = pd.read_csv('checkbook_nyc_groupby_capital_project_fy.csv')\n",
    "cpdb = pd.read_csv('../data/cpdb/cpdb_projects.csv')\n",
    "print(checkbook.shape[0], cpdb.shape[0])"
   ]
  },
  {
   "cell_type": "code",
   "execution_count": 6,
   "metadata": {},
   "outputs": [],
   "source": [
    "cpdb_gdf_poly = gpd.read_file('../data/cpdb/cpdb_dcpattributes_poly.shp/')\n",
    "cpdb_gdf_pts = gpd.read_file('../data/cpdb/cpdb_dcpattributes_pts.shp/')"
   ]
  },
  {
   "cell_type": "code",
   "execution_count": 7,
   "metadata": {},
   "outputs": [],
   "source": [
    "# filter dataframe to include only projects from this fiscal year\n",
    "checkbook_2023 = checkbook[checkbook['Fiscal year']==2023]"
   ]
  },
  {
   "cell_type": "code",
   "execution_count": 8,
   "metadata": {},
   "outputs": [],
   "source": [
    "# left join on Checkbook NYC 2023 with CPDB (no geoms)\n",
    "join_cpdb_checkbook_2023 = checkbook_2023.merge(cpdb, how='left', left_on='FMS ID', right_on='maprojid', indicator=True)\n",
    "join_cpdb_checkbook_2023.drop('Unnamed: 0', axis=1, inplace=True)"
   ]
  },
  {
   "cell_type": "code",
   "execution_count": 9,
   "metadata": {},
   "outputs": [
    {
     "name": "stdout",
     "output_type": "stream",
     "text": [
      "0.5922073890096243\n"
     ]
    }
   ],
   "source": [
    "# percent checkbook nyc projects that can be matched to CPDB rows (no geometries)\n",
    "num_matches_no_geoms = join_cpdb_checkbook_2023[join_cpdb_checkbook_2023['_merge']=='both']\n",
    "print(num_matches_no_geoms.shape[0]/checkbook_2023.shape[0])"
   ]
  },
  {
   "cell_type": "markdown",
   "metadata": {},
   "source": [
    "## Matching Checkbook NYC 2023 Projects on CPDB geometries"
   ]
  },
  {
   "cell_type": "code",
   "execution_count": 10,
   "metadata": {},
   "outputs": [
    {
     "data": {
      "text/html": [
       "<div>\n",
       "<style scoped>\n",
       "    .dataframe tbody tr th:only-of-type {\n",
       "        vertical-align: middle;\n",
       "    }\n",
       "\n",
       "    .dataframe tbody tr th {\n",
       "        vertical-align: top;\n",
       "    }\n",
       "\n",
       "    .dataframe thead th {\n",
       "        text-align: right;\n",
       "    }\n",
       "</style>\n",
       "<table border=\"1\" class=\"dataframe\">\n",
       "  <thead>\n",
       "    <tr style=\"text-align: right;\">\n",
       "      <th></th>\n",
       "      <th>Agency</th>\n",
       "      <th>Associated Prime Vendor</th>\n",
       "      <th>Budget Code</th>\n",
       "      <th>Capital Project</th>\n",
       "      <th>Check Amount</th>\n",
       "      <th>Contract ID</th>\n",
       "      <th>Contract Purpose</th>\n",
       "      <th>Department</th>\n",
       "      <th>Document ID</th>\n",
       "      <th>Emerging Business</th>\n",
       "      <th>...</th>\n",
       "      <th>magency</th>\n",
       "      <th>magencyacr</th>\n",
       "      <th>projectid</th>\n",
       "      <th>descriptio</th>\n",
       "      <th>typecatego</th>\n",
       "      <th>geomsource</th>\n",
       "      <th>dataname</th>\n",
       "      <th>datasource</th>\n",
       "      <th>datadate</th>\n",
       "      <th>geometry</th>\n",
       "    </tr>\n",
       "  </thead>\n",
       "  <tbody>\n",
       "    <tr>\n",
       "      <th>0</th>\n",
       "      <td>Queens Borough Public Library</td>\n",
       "      <td>NaN</td>\n",
       "      <td>FREQ (FAR ROCKAWAY LIBRARY (1637 CENTRAL AVE,)</td>\n",
       "      <td>039LQQ122FAO007</td>\n",
       "      <td>496523.88</td>\n",
       "      <td>CT103920211413231</td>\n",
       "      <td>Far Rockaway- Office Resources Inc. - Furniture</td>\n",
       "      <td>400-039-D22</td>\n",
       "      <td>20230165556-1-DSB-AD</td>\n",
       "      <td>No</td>\n",
       "      <td>...</td>\n",
       "      <td>039</td>\n",
       "      <td>QBPL</td>\n",
       "      <td>LQQ122FAO</td>\n",
       "      <td>FAR ROCKAWAY OUTFITTING</td>\n",
       "      <td>Fixed Asset</td>\n",
       "      <td>AD Sprint</td>\n",
       "      <td>NaN</td>\n",
       "      <td>NaN</td>\n",
       "      <td>NaN</td>\n",
       "      <td>MULTIPOINT (-73.75209 40.60477)</td>\n",
       "    </tr>\n",
       "    <tr>\n",
       "      <th>1</th>\n",
       "      <td>Police Department</td>\n",
       "      <td>NaN</td>\n",
       "      <td>HVPK (NYPD: 20TH, 24TH, 25TH PCTS: INSTALL NEW)</td>\n",
       "      <td>056PO79BMAHO001</td>\n",
       "      <td>137650.00</td>\n",
       "      <td>CT105620171417611</td>\n",
       "      <td>Replacement &amp; Upgrade of Air Condition -25PSH</td>\n",
       "      <td>400-056-207</td>\n",
       "      <td>20230314405-1-DSB-EFT</td>\n",
       "      <td>No</td>\n",
       "      <td>...</td>\n",
       "      <td>056</td>\n",
       "      <td>NYPD</td>\n",
       "      <td>PO79BMAHO</td>\n",
       "      <td>HVAC REPLACEMENT FOR 20TH, 24TH AND 25TH PCTS</td>\n",
       "      <td>Fixed Asset</td>\n",
       "      <td>agency</td>\n",
       "      <td>dcp_cpdb_agencyverified</td>\n",
       "      <td>agency</td>\n",
       "      <td>NaN</td>\n",
       "      <td>MULTIPOINT (-73.97502 40.78405)</td>\n",
       "    </tr>\n",
       "    <tr>\n",
       "      <th>2</th>\n",
       "      <td>Police Department</td>\n",
       "      <td>NaN</td>\n",
       "      <td>FIRN (CONEY ISLAND FIRING RANGE: DESIGN ASSOCA)</td>\n",
       "      <td>056PO79BMAHS001</td>\n",
       "      <td>115513.27</td>\n",
       "      <td>CT105620181421797</td>\n",
       "      <td>REQUIREMENTS CONTRACT FOR ARCHITECTURAL &amp; ENGI...</td>\n",
       "      <td>400-056-207</td>\n",
       "      <td>20230213921-1-DSB-EFT</td>\n",
       "      <td>No</td>\n",
       "      <td>...</td>\n",
       "      <td>056</td>\n",
       "      <td>NYPD</td>\n",
       "      <td>PO79BMAHS</td>\n",
       "      <td>FIRING RANGE RECONSTRUCTION AT CONEY ISLAND</td>\n",
       "      <td>Fixed Asset</td>\n",
       "      <td>agency</td>\n",
       "      <td>dcp_cpdb_agencyverified</td>\n",
       "      <td>agency</td>\n",
       "      <td>NaN</td>\n",
       "      <td>MULTIPOINT (-73.97659 40.58639)</td>\n",
       "    </tr>\n",
       "    <tr>\n",
       "      <th>3</th>\n",
       "      <td>Police Department</td>\n",
       "      <td>NaN</td>\n",
       "      <td>BOL2 (NYPD: 26TH PCT (520 W 126ST, MN), 42ND P)</td>\n",
       "      <td>056PO79BMAHY002</td>\n",
       "      <td>19500.00</td>\n",
       "      <td>CT105620161422969</td>\n",
       "      <td>Prof Engr. &amp; Design for Boiler Sys. 26,42, &amp; 4...</td>\n",
       "      <td>400-056-207</td>\n",
       "      <td>20230427415-1-DSB-EFT</td>\n",
       "      <td>No</td>\n",
       "      <td>...</td>\n",
       "      <td>056</td>\n",
       "      <td>NYPD</td>\n",
       "      <td>PO79BMAHY</td>\n",
       "      <td>BOILERS AT 26TH, 42ND &amp; 46TH PRECINCTS</td>\n",
       "      <td>Fixed Asset</td>\n",
       "      <td>agency</td>\n",
       "      <td>dcp_cpdb_agencyverified</td>\n",
       "      <td>agency</td>\n",
       "      <td>NaN</td>\n",
       "      <td>MULTIPOINT (-73.95668 40.81484)</td>\n",
       "    </tr>\n",
       "    <tr>\n",
       "      <th>4</th>\n",
       "      <td>Police Department</td>\n",
       "      <td>NaN</td>\n",
       "      <td>UPS1 (NYPD: 1 POLICE PLAZA  ELEC SYSTEM UPGRAD)</td>\n",
       "      <td>056PO79BMUPS001</td>\n",
       "      <td>9430766.66</td>\n",
       "      <td>CT105620218801481</td>\n",
       "      <td>Emergency Declaration for Replacement of Emerg...</td>\n",
       "      <td>400-056-207</td>\n",
       "      <td>20230106766-1-DSB-EFT</td>\n",
       "      <td>No</td>\n",
       "      <td>...</td>\n",
       "      <td>056</td>\n",
       "      <td>NYPD</td>\n",
       "      <td>PO79BMUPS</td>\n",
       "      <td>ONE POLICE PLAZA UPS</td>\n",
       "      <td>Fixed Asset</td>\n",
       "      <td>DCP_geojson</td>\n",
       "      <td>NaN</td>\n",
       "      <td>NaN</td>\n",
       "      <td>NaN</td>\n",
       "      <td>MULTIPOINT (-74.00174 40.71221)</td>\n",
       "    </tr>\n",
       "  </tbody>\n",
       "</table>\n",
       "<p>5 rows × 32 columns</p>\n",
       "</div>"
      ],
      "text/plain": [
       "                          Agency  Associated Prime Vendor  \\\n",
       "0  Queens Borough Public Library                      NaN   \n",
       "1              Police Department                      NaN   \n",
       "2              Police Department                      NaN   \n",
       "3              Police Department                      NaN   \n",
       "4              Police Department                      NaN   \n",
       "\n",
       "                                       Budget Code  Capital Project  \\\n",
       "0   FREQ (FAR ROCKAWAY LIBRARY (1637 CENTRAL AVE,)  039LQQ122FAO007   \n",
       "1  HVPK (NYPD: 20TH, 24TH, 25TH PCTS: INSTALL NEW)  056PO79BMAHO001   \n",
       "2  FIRN (CONEY ISLAND FIRING RANGE: DESIGN ASSOCA)  056PO79BMAHS001   \n",
       "3  BOL2 (NYPD: 26TH PCT (520 W 126ST, MN), 42ND P)  056PO79BMAHY002   \n",
       "4  UPS1 (NYPD: 1 POLICE PLAZA  ELEC SYSTEM UPGRAD)  056PO79BMUPS001   \n",
       "\n",
       "   Check Amount        Contract ID  \\\n",
       "0     496523.88  CT103920211413231   \n",
       "1     137650.00  CT105620171417611   \n",
       "2     115513.27  CT105620181421797   \n",
       "3      19500.00  CT105620161422969   \n",
       "4    9430766.66  CT105620218801481   \n",
       "\n",
       "                                    Contract Purpose   Department  \\\n",
       "0    Far Rockaway- Office Resources Inc. - Furniture  400-039-D22   \n",
       "1      Replacement & Upgrade of Air Condition -25PSH  400-056-207   \n",
       "2  REQUIREMENTS CONTRACT FOR ARCHITECTURAL & ENGI...  400-056-207   \n",
       "3  Prof Engr. & Design for Boiler Sys. 26,42, & 4...  400-056-207   \n",
       "4  Emergency Declaration for Replacement of Emerg...  400-056-207   \n",
       "\n",
       "             Document ID Emerging Business  ... magency  magencyacr  \\\n",
       "0   20230165556-1-DSB-AD               No   ...     039        QBPL   \n",
       "1  20230314405-1-DSB-EFT               No   ...     056        NYPD   \n",
       "2  20230213921-1-DSB-EFT               No   ...     056        NYPD   \n",
       "3  20230427415-1-DSB-EFT               No   ...     056        NYPD   \n",
       "4  20230106766-1-DSB-EFT               No   ...     056        NYPD   \n",
       "\n",
       "   projectid                                     descriptio   typecatego  \\\n",
       "0  LQQ122FAO                        FAR ROCKAWAY OUTFITTING  Fixed Asset   \n",
       "1  PO79BMAHO  HVAC REPLACEMENT FOR 20TH, 24TH AND 25TH PCTS  Fixed Asset   \n",
       "2  PO79BMAHS    FIRING RANGE RECONSTRUCTION AT CONEY ISLAND  Fixed Asset   \n",
       "3  PO79BMAHY         BOILERS AT 26TH, 42ND & 46TH PRECINCTS  Fixed Asset   \n",
       "4  PO79BMUPS                           ONE POLICE PLAZA UPS  Fixed Asset   \n",
       "\n",
       "    geomsource                 dataname datasource datadate  \\\n",
       "0    AD Sprint                      NaN        NaN      NaN   \n",
       "1       agency  dcp_cpdb_agencyverified     agency      NaN   \n",
       "2       agency  dcp_cpdb_agencyverified     agency      NaN   \n",
       "3       agency  dcp_cpdb_agencyverified     agency      NaN   \n",
       "4  DCP_geojson                      NaN        NaN      NaN   \n",
       "\n",
       "                          geometry  \n",
       "0  MULTIPOINT (-73.75209 40.60477)  \n",
       "1  MULTIPOINT (-73.97502 40.78405)  \n",
       "2  MULTIPOINT (-73.97659 40.58639)  \n",
       "3  MULTIPOINT (-73.95668 40.81484)  \n",
       "4  MULTIPOINT (-74.00174 40.71221)  \n",
       "\n",
       "[5 rows x 32 columns]"
      ]
     },
     "execution_count": 10,
     "metadata": {},
     "output_type": "execute_result"
    }
   ],
   "source": [
    "def filter_by_year(df, year):\n",
    "    # pass year as int\n",
    "    return df[df['Fiscal year']==year]\n",
    "\n",
    "def join_checkbook_and_cpdb_geoms(df, pts, poly):\n",
    "    df_pts = df.merge(pts, how='left', left_on='FMS ID', right_on='maprojid', indicator=True)\n",
    "    df_pts.drop('Unnamed: 0', axis=1, inplace=True)\n",
    "\n",
    "    df_poly = df.merge(poly, how='left', left_on='FMS ID', right_on='maprojid', indicator=True)\n",
    "    df_poly.drop('Unnamed: 0', axis=1, inplace=True)\n",
    "\n",
    "    pts_matched = df_pts[df_pts['_merge']=='both']\n",
    "    poly_matched = df_poly[df_poly['_merge']=='both']\n",
    "\n",
    "    temp_df = pd.concat([pts_matched, poly_matched], ignore_index=True)\n",
    "    temp_df.drop('_merge', axis=1, inplace=True)\n",
    "    gdf = gpd.GeoDataFrame(temp_df, geometry='geometry')\n",
    "\n",
    "    return gdf\n",
    "\n",
    "temp_gdf = join_checkbook_and_cpdb_geoms(checkbook_2023, cpdb_gdf_pts, cpdb_gdf_poly)\n",
    "temp_gdf.head(5)"
   ]
  },
  {
   "cell_type": "code",
   "execution_count": 11,
   "metadata": {},
   "outputs": [
    {
     "name": "stdout",
     "output_type": "stream",
     "text": [
      "Number of 2023 Checkbook NYC projects mapped to geometries: 2010\n",
      "Percent of 2023 Checkbook NYC projects mapped to geometries: 31.20149022042844\n",
      "Sum of money from 2023 Checkbook NYC projects mapped to geometries: 1637699838.98\n",
      "Percent of money from 2023 Checkbook NYC projects mapped to geometries: 14.577647650439168\n"
     ]
    }
   ],
   "source": [
    "def describe_cpdb_join_by_fy(df, gdf, year):\n",
    "    n = df.shape[0]\n",
    "    m = gdf.shape[0]\n",
    "\n",
    "    print(\"Number of {} Checkbook NYC projects mapped to geometries: {}\".format(year, m))\n",
    "    print(\"Percent of {} Checkbook NYC projects mapped to geometries: {}\".format(year, (m/n)*100))\n",
    "    print(\"Sum of money from {} Checkbook NYC projects mapped to geometries: {}\".format(year, round(sum(gdf['Check Amount']),2)))\n",
    "    print(\"Percent of money from {} Checkbook NYC projects mapped to geometries: {}\".format(year, (sum(gdf['Check Amount'])/sum(df['Check Amount']))*100))\n",
    "\n",
    "describe_cpdb_join_by_fy(checkbook_2023, temp_gdf, '2023')"
   ]
  },
  {
   "cell_type": "code",
   "execution_count": 14,
   "metadata": {},
   "outputs": [
    {
     "name": "stdout",
     "output_type": "stream",
     "text": [
      "Number of 2023 Checkbook NYC projects mapped to geometries: 2010\n",
      "Percent of 2023 Checkbook NYC projects mapped to geometries: 52.6867627785059\n",
      "Sum of money from 2023 Checkbook NYC projects mapped to geometries: 1637699838.98\n",
      "Percent of money from 2023 Checkbook NYC projects mapped to geometries: 28.60051599861023\n"
     ]
    }
   ],
   "source": [
    "# expressed as a proportion of all the projects from Checkbook NYC that matched to CPDB\n",
    "describe_cpdb_join_by_fy(num_matches_no_geoms,temp_gdf, '2023')"
   ]
  },
  {
   "cell_type": "code",
   "execution_count": 16,
   "metadata": {},
   "outputs": [
    {
     "data": {
      "text/plain": [
       "<Axes: >"
      ]
     },
     "execution_count": 16,
     "metadata": {},
     "output_type": "execute_result"
    },
    {
     "data": {
      "image/png": "[encoded data removed]",
      "text/plain": [
       "<Figure size 432x288 with 1 Axes>"
      ]
     },
     "metadata": {
      "needs_background": "light"
     },
     "output_type": "display_data"
    }
   ],
   "source": [
    "# visualize mapped geometries\n",
    "nyc = gpd.read_file(geodatasets.get_path('nybb'))\n",
    "temp_gdf.plot(cmap = 'tab20', column = 'Agency', markersize=0.1)\n",
    "# fig, ax = plt.subplots(figsize=(0,0))\n",
    "# nyc.plot(ax=ax, alpha=0.5)\n",
    "# gdf.plot(ax=ax, cmap='tab20', column='Agency')\n",
    "# cx.add_basemap(ax, crs=nyc.crs, source=cx.providers.Stamen.TonerLite)\n",
    "# ax.set_axis_off()\n",
    "# plt.show()\n"
   ]
  },
  {
   "cell_type": "markdown",
   "metadata": {},
   "source": [
    "### Summary of findings"
   ]
  }
 ],
 "metadata": {
  "kernelspec": {
   "display_name": "Python 3.11.3 ('dcp')",
   "language": "python",
   "name": "python3"
  },
  "language_info": {
   "codemirror_mode": {
    "name": "ipython",
    "version": 3
   },
   "file_extension": ".py",
   "mimetype": "text/x-python",
   "name": "python",
   "nbconvert_exporter": "python",
   "pygments_lexer": "ipython3",
   "version": "3.11.3"
  },
  "orig_nbformat": 4,
  "vscode": {
   "interpreter": {
    "hash": "f10cfb6677a17cec9a3464eac6be38232c3e9ffbd2de13988056aee8f13fc0f8"
   }
  }
 },
 "nbformat": 4,
 "nbformat_minor": 2
}
