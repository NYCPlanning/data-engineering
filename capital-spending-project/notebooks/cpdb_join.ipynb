{
 "cells": [
  {
   "cell_type": "markdown",
   "metadata": {},
   "source": [
    "# Joining CPDB geometries onto collapsed Checkbook NYC dataset"
   ]
  },
  {
   "cell_type": "markdown",
   "metadata": {},
   "source": [
    "## Setup"
   ]
  },
  {
   "cell_type": "code",
   "execution_count": 169,
   "metadata": {},
   "outputs": [],
   "source": [
    "import pandas as pd\n",
    "import numpy as np\n",
    "import re\n",
    "import datetime\n",
    "import time\n",
    "import geopandas as gpd\n",
    "import geodatasets\n",
    "import contextily as cx\n",
    "import matplotlib.pyplot as plt\n",
    "import matplotlib.font_manager\n",
    "from matplotlib import ticker\n",
    "import seaborn as sns\n",
    "import os"
   ]
  },
  {
   "cell_type": "code",
   "execution_count": 102,
   "metadata": {},
   "outputs": [
    {
     "name": "stdout",
     "output_type": "stream",
     "text": [
      "80932 12478\n"
     ]
    }
   ],
   "source": [
    "checkbook = pd.read_csv('checkbook_nyc_groupby_capital_project_fy.csv')\n",
    "cpdb = pd.read_csv('../data/cpdb/cpdb_projects.csv') # no geometries, just projects\n",
    "print(checkbook.shape[0], cpdb.shape[0])"
   ]
  },
  {
   "cell_type": "code",
   "execution_count": 207,
   "metadata": {},
   "outputs": [],
   "source": [
    "# get all the cpdb geometries file names\n",
    "path = \"../data/cpdb/\"\n",
    "cpdb_file_list = os.listdir(path)\n",
    "cpdb_file_list.remove('cpdb_projects.csv')\n",
    "cpdb_file_list.remove('.DS_Store')"
   ]
  },
  {
   "cell_type": "markdown",
   "metadata": {},
   "source": [
    "## Initial work - Joining 2023 Checkbook NYC projects onto 2023 CPDB projects file, no geoms"
   ]
  },
  {
   "cell_type": "code",
   "execution_count": 105,
   "metadata": {},
   "outputs": [],
   "source": [
    "cpdb_gdf_poly = gpd.read_file('../data/cpdb/cpdb_dcpattributes_poly_23/')\n",
    "cpdb_gdf_pts = gpd.read_file('../data/cpdb/cpdb_dcpattributes_pts_23/')"
   ]
  },
  {
   "cell_type": "code",
   "execution_count": 106,
   "metadata": {},
   "outputs": [],
   "source": [
    "# filter dataframe to include only projects from this fiscal year\n",
    "checkbook_2023 = checkbook[checkbook['Fiscal year']==2023]"
   ]
  },
  {
   "cell_type": "code",
   "execution_count": 107,
   "metadata": {},
   "outputs": [],
   "source": [
    "# left join on Checkbook NYC 2023 with CPDB (no geoms)\n",
    "join_cpdb_checkbook_2023 = checkbook_2023.merge(cpdb, how='left', left_on='FMS ID', right_on='maprojid', indicator=True)\n",
    "join_cpdb_checkbook_2023.drop('Unnamed: 0', axis=1, inplace=True)"
   ]
  },
  {
   "cell_type": "code",
   "execution_count": 109,
   "metadata": {},
   "outputs": [
    {
     "name": "stdout",
     "output_type": "stream",
     "text": [
      "0.5922073890096243\n"
     ]
    }
   ],
   "source": [
    "# percent checkbook nyc projects that can be matched to CPDB rows (no geometries)\n",
    "num_matches_no_geoms = join_cpdb_checkbook_2023[join_cpdb_checkbook_2023['_merge']=='both']\n",
    "print(num_matches_no_geoms.shape[0]/checkbook_2023.shape[0])"
   ]
  },
  {
   "cell_type": "markdown",
   "metadata": {},
   "source": [
    "## Initial work: Joining CPDB geometries onto Checkbook NYC 2023 Projects"
   ]
  },
  {
   "cell_type": "code",
   "execution_count": 76,
   "metadata": {},
   "outputs": [],
   "source": [
    "def filter_by_year(df, year):\n",
    "    # pass year as int\n",
    "    return df[df['Fiscal year']==year]\n",
    "\n",
    "def join_checkbook_and_cpdb_geoms(df, pts, poly):\n",
    "    df_pts = df.merge(pts, how='left', left_on='FMS ID', right_on='maprojid', indicator=True)\n",
    "    df_pts.drop('Unnamed: 0', axis=1, inplace=True)\n",
    "\n",
    "    df_poly = df.merge(poly, how='left', left_on='FMS ID', right_on='maprojid', indicator=True)\n",
    "    df_poly.drop('Unnamed: 0', axis=1, inplace=True)\n",
    "\n",
    "    pts_matched = df_pts[df_pts['_merge']=='both']\n",
    "    poly_matched = df_poly[df_poly['_merge']=='both']\n",
    "\n",
    "    temp_df = pd.concat([pts_matched, poly_matched], ignore_index=True)\n",
    "    temp_df.drop('_merge', axis=1, inplace=True)\n",
    "    gdf = gpd.GeoDataFrame(temp_df, geometry='geometry')\n",
    "\n",
    "    return gdf\n",
    "\n",
    "# temp_gdf = join_checkbook_and_cpdb_geoms(checkbook_2023, cpdb_gdf_pts, cpdb_gdf_poly)\n",
    "# temp_gdf.head(5)"
   ]
  },
  {
   "cell_type": "code",
   "execution_count": 77,
   "metadata": {},
   "outputs": [
    {
     "name": "stdout",
     "output_type": "stream",
     "text": [
      "Number of 2023 Checkbook NYC projects mapped to geometries: 212985\n",
      "Percent of 2023 Checkbook NYC projects mapped to geometries: 3306.1937286556968\n",
      "Sum of money from 2023 Checkbook NYC projects mapped to geometries: 237613431399.87\n",
      "Percent of money from 2023 Checkbook NYC projects mapped to geometries: 2115.066996719303\n"
     ]
    }
   ],
   "source": [
    "def describe_cpdb_join_by_fy(df, gdf, year):\n",
    "    n = df.shape[0]\n",
    "    m = gdf.shape[0]\n",
    "\n",
    "    print(\"Number of {} Checkbook NYC projects mapped to geometries: {}\".format(year, m))\n",
    "    print(\"Percent of {} Checkbook NYC projects mapped to geometries: {}\".format(year, (m/n)*100))\n",
    "    print(\"Sum of money from {} Checkbook NYC projects mapped to geometries: {}\".format(year, round(sum(gdf['Check Amount']),2)))\n",
    "    print(\"Percent of money from {} Checkbook NYC projects mapped to geometries: {}\".format(year, (sum(gdf['Check Amount'])/sum(df['Check Amount']))*100))\n",
    "\n",
    "# describe_cpdb_join_by_fy(checkbook_2023, temp_gdf, '2023')"
   ]
  },
  {
   "cell_type": "code",
   "execution_count": 78,
   "metadata": {},
   "outputs": [
    {
     "name": "stdout",
     "output_type": "stream",
     "text": [
      "Number of 2023 Checkbook NYC projects mapped to geometries: 212985\n",
      "Percent of 2023 Checkbook NYC projects mapped to geometries: 5582.830930537352\n",
      "Sum of money from 2023 Checkbook NYC projects mapped to geometries: 237613431399.87\n",
      "Percent of money from 2023 Checkbook NYC projects mapped to geometries: 4149.641212927831\n"
     ]
    }
   ],
   "source": [
    "# expressed as a proportion of all the projects from Checkbook NYC that matched to CPDB\n",
    "# describe_cpdb_join_by_fy(num_matches_no_geoms,temp_gdf, '2023')"
   ]
  },
  {
   "cell_type": "markdown",
   "metadata": {},
   "source": [
    "## Join all CPDB Geometries onto Checkbook NYC Projects\n",
    "\n",
    "Using the collapsed Checkbook NYC dataset and a merged version of CPDB (spanning 2017-present), left joined CPDB onto Checkbook NYC and then reported the results. "
   ]
  },
  {
   "cell_type": "code",
   "execution_count": 117,
   "metadata": {},
   "outputs": [],
   "source": [
    "# define functions\n",
    "def merge_all_cpdb_geoms(path, file_list):\n",
    "    \"\"\"\n",
    "    input: list of file names\n",
    "    output: GeoDataFrame\n",
    "    \"\"\"\n",
    "    file_list = sorted(file_list, key=lambda x: int(re.search(r'\\d+$',x).group()), reverse=True)\n",
    "\n",
    "    gdf_list = []\n",
    "    for f in file_list:\n",
    "        gdf = gpd.read_file(path + f)\n",
    "        gdf_list.append(gdf)\n",
    "\n",
    "    all_cpdb_geoms = pd.concat(gdf_list)\n",
    "    # deal with duplicates\n",
    "    all_cpdb_geoms.drop_duplicates(subset='maprojid', keep='first', inplace=True, ignore_index=True)\n",
    "    return all_cpdb_geoms\n",
    "\n",
    "# joining all of Checkbook NYC onto all cpdb\n",
    "def join_checkbook_geoms(df, cpdb_geoms):\n",
    "    \"\"\"\n",
    "    input:\n",
    "    df -> dataframe to be left joined onto, in this case checkbook nyc\n",
    "    cpdb_geoms -> geodataframe to join onto df, contains all shape files 2017-2023\n",
    "    output:\n",
    "    gdf -> geodataframe of cpdb geometries left joined onto checkbook nyc\n",
    "    \"\"\"\n",
    "    merged = df.merge(cpdb_geoms, how='left', left_on='FMS ID', right_on='maprojid', indicator=True) # left join so we can easily count how many projects did not map to a geometry\n",
    "    merged.drop('Unnamed: 0', axis=1, inplace=True)\n",
    "    gdf = gpd.GeoDataFrame(merged, geometry='geometry')\n",
    "    return gdf"
   ]
  },
  {
   "cell_type": "code",
   "execution_count": 118,
   "metadata": {},
   "outputs": [],
   "source": [
    "all_gdf = merge_all_cpdb_geoms(path, cpdb_file_list)"
   ]
  },
  {
   "cell_type": "code",
   "execution_count": 119,
   "metadata": {},
   "outputs": [
    {
     "name": "stdout",
     "output_type": "stream",
     "text": [
      "8042\n",
      "8042\n"
     ]
    },
    {
     "data": {
      "text/plain": [
       "Series([], Name: geometry, dtype: int64)"
      ]
     },
     "execution_count": 119,
     "metadata": {},
     "output_type": "execute_result"
    }
   ],
   "source": [
    "### potential extension\n",
    "# why are there multiple geometries for some maprojids in CPDB? \n",
    "# could potentially add a column indicating year of CPDB build the geometry is pulled from, match that on FY for Checkbook NYC\n",
    "print(all_gdf.shape[0])\n",
    "print(all_gdf['maprojid'].unique().shape[0])\n",
    "\n",
    "### take the latest geometry for now, but note that there are instances with many different geometries for the same maprojid \n",
    "all_gdf_groupby_maprojid = all_gdf.groupby('maprojid')['geometry'].nunique()\n",
    "all_gdf_groupby_maprojid.mean()\n",
    "\n",
    "all_gdf_groupby_maprojid.max()\n",
    "all_gdf_groupby_maprojid[all_gdf_groupby_maprojid==7]"
   ]
  },
  {
   "cell_type": "code",
   "execution_count": 137,
   "metadata": {},
   "outputs": [],
   "source": [
    "gdf = join_checkbook_geoms(checkbook, all_gdf)"
   ]
  },
  {
   "cell_type": "code",
   "execution_count": 161,
   "metadata": {},
   "outputs": [],
   "source": [
    "def describe_categories(gdf, category):\n",
    "    \"\"\"\n",
    "    input: \n",
    "    gdf -> geodataframe\n",
    "    category -> string (ITT vehicles or equipment, lump sum, fixed asset, or NULL)\n",
    "    return: null \n",
    "    \"\"\"\n",
    "    if category=='None':\n",
    "        cat_geoms = gdf[(gdf['_merge']=='both') & (gdf['typecatego'].isna())]\n",
    "    else:\n",
    "        cat_geoms = gdf[(gdf['_merge']=='both') & (gdf['typecatego']==category)]\n",
    "    \n",
    "    n = gdf.shape[0]\n",
    "    m = cat_geoms.shape[0]\n",
    "\n",
    "    print(\"Percent of Checkbook NYC projects that were joined to CPDB geometries and categorized as {}: {}\".format(category, round((m/n)*100, 2)))\n",
    "    print(\"Percent of total money captured by Checkbook NYC represented by joined projects categorized as {}: {}\".format(category, round((sum(cat_geoms['Check Amount'])/sum(gdf['Check Amount']))*100,2)))\n",
    "    return\n",
    "\n",
    "def describe_geometries(gdf):\n",
    "    geoms = gdf[gdf['_merge']=='both']\n",
    "    n = gdf.shape[0]\n",
    "    m = geoms.shape[0]\n",
    "\n",
    "    print(\"Number of Checkbook NYC projects mapped to geometries: {}\".format(m))\n",
    "    print(\"Percent of Checkbook NYC projects mapped to geometries: {}\".format(round((m/n)*100, 2)))\n",
    "    print(\"Amount of money from Checkbook NYC projects mapped to geometries: {}\".format(round(sum(gdf['Check Amount']), 2)))\n",
    "    print(\"Percent of money from Checkbook NYC projects mapped to geometries: {}\".format(round((sum(geoms['Check Amount'])/sum(gdf['Check Amount']))*100, 2)))\n",
    "    return "
   ]
  },
  {
   "cell_type": "code",
   "execution_count": 166,
   "metadata": {},
   "outputs": [
    {
     "name": "stdout",
     "output_type": "stream",
     "text": [
      "Percent of Checkbook NYC projects that were joined to CPDB geometries and categorized as Fixed Asset: 24.9\n",
      "Percent of total money captured by Checkbook NYC represented by joined projects categorized as Fixed Asset: 13.66\n",
      "Percent of Checkbook NYC projects that were joined to CPDB geometries and categorized as ITT, Vehicles, and Equipment: 2.39\n",
      "Percent of total money captured by Checkbook NYC represented by joined projects categorized as ITT, Vehicles, and Equipment: 0.92\n",
      "Percent of Checkbook NYC projects that were joined to CPDB geometries and categorized as Lump Sum: 2.53\n",
      "Percent of total money captured by Checkbook NYC represented by joined projects categorized as Lump Sum: 1.87\n",
      "Percent of Checkbook NYC projects that were joined to CPDB geometries and categorized as None: 7.02\n",
      "Percent of total money captured by Checkbook NYC represented by joined projects categorized as None: 4.75\n",
      "Number of Checkbook NYC projects mapped to geometries: 29813\n",
      "Percent of Checkbook NYC projects mapped to geometries: 36.84\n",
      "Amount of money from Checkbook NYC projects mapped to geometries: 120956240474.2\n",
      "Percent of money from Checkbook NYC projects mapped to geometries: 21.21\n"
     ]
    }
   ],
   "source": [
    "cats = ['Fixed Asset', 'ITT, Vehicles, and Equipment', 'Lump Sum', 'None']\n",
    "\n",
    "for cat in cats:\n",
    "    describe_categories(gdf, cat)\n",
    "\n",
    "describe_geometries(gdf)"
   ]
  },
  {
   "cell_type": "code",
   "execution_count": 167,
   "metadata": {},
   "outputs": [
    {
     "data": {
      "text/html": [
       "<div>\n",
       "<style scoped>\n",
       "    .dataframe tbody tr th:only-of-type {\n",
       "        vertical-align: middle;\n",
       "    }\n",
       "\n",
       "    .dataframe tbody tr th {\n",
       "        vertical-align: top;\n",
       "    }\n",
       "\n",
       "    .dataframe thead th {\n",
       "        text-align: right;\n",
       "    }\n",
       "</style>\n",
       "<table border=\"1\" class=\"dataframe\">\n",
       "  <thead>\n",
       "    <tr style=\"text-align: right;\">\n",
       "      <th></th>\n",
       "      <th>Agency</th>\n",
       "      <th>Associated Prime Vendor</th>\n",
       "      <th>Budget Code</th>\n",
       "      <th>Capital Project</th>\n",
       "      <th>Check Amount</th>\n",
       "      <th>Contract ID</th>\n",
       "      <th>Contract Purpose</th>\n",
       "      <th>Department</th>\n",
       "      <th>Document ID</th>\n",
       "      <th>Emerging Business</th>\n",
       "      <th>...</th>\n",
       "      <th>projectid</th>\n",
       "      <th>descriptio</th>\n",
       "      <th>typecatego</th>\n",
       "      <th>geomsource</th>\n",
       "      <th>dataname</th>\n",
       "      <th>datasource</th>\n",
       "      <th>datadate</th>\n",
       "      <th>geometry</th>\n",
       "      <th>cartodb_id</th>\n",
       "      <th>_merge</th>\n",
       "    </tr>\n",
       "  </thead>\n",
       "  <tbody>\n",
       "    <tr>\n",
       "      <th>52</th>\n",
       "      <td>New York Public Library</td>\n",
       "      <td>NaN</td>\n",
       "      <td>FTW4 (NYPL: FORT WASHINGTON (2535 WEST 179TH S)</td>\n",
       "      <td>037LN18CAFTW002</td>\n",
       "      <td>11035.64</td>\n",
       "      <td>DO103520212006752</td>\n",
       "      <td>Multi-branch WiFi Access Point Refresh</td>\n",
       "      <td>400-037-M01</td>\n",
       "      <td>20230257727-1-DSB-EFT</td>\n",
       "      <td>No</td>\n",
       "      <td>...</td>\n",
       "      <td>LN18CAFTW</td>\n",
       "      <td>FORT WASHINGTON - Initial Outfitting (Carnegie...</td>\n",
       "      <td>Fixed Asset</td>\n",
       "      <td>Facilities database</td>\n",
       "      <td>NaN</td>\n",
       "      <td>NaN</td>\n",
       "      <td>NaN</td>\n",
       "      <td>POINT (-73.93385 40.84787)</td>\n",
       "      <td>1164.0</td>\n",
       "      <td>both</td>\n",
       "    </tr>\n",
       "    <tr>\n",
       "      <th>53</th>\n",
       "      <td>New York Public Library</td>\n",
       "      <td>NaN</td>\n",
       "      <td>FTW5 (NYPL: FORT WASHINGTON (2535 WEST 179TH S)</td>\n",
       "      <td>037LN18CAFTW002</td>\n",
       "      <td>21200.50</td>\n",
       "      <td>CT103520231410502</td>\n",
       "      <td>Thos. Moser Tables and Chairs</td>\n",
       "      <td>400-037-M01</td>\n",
       "      <td>20230330350-1-DSB-EFT</td>\n",
       "      <td>No</td>\n",
       "      <td>...</td>\n",
       "      <td>LN18CAFTW</td>\n",
       "      <td>FORT WASHINGTON - Initial Outfitting (Carnegie...</td>\n",
       "      <td>Fixed Asset</td>\n",
       "      <td>Facilities database</td>\n",
       "      <td>NaN</td>\n",
       "      <td>NaN</td>\n",
       "      <td>NaN</td>\n",
       "      <td>POINT (-73.93385 40.84787)</td>\n",
       "      <td>1164.0</td>\n",
       "      <td>both</td>\n",
       "    </tr>\n",
       "    <tr>\n",
       "      <th>56</th>\n",
       "      <td>New York Public Library</td>\n",
       "      <td>NaN</td>\n",
       "      <td>MEL2 (NYPL: MELROSE (910 MORRIS AVE, BX): INIT)</td>\n",
       "      <td>037LN18CAMEL002</td>\n",
       "      <td>14976.94</td>\n",
       "      <td>DO103520212006752</td>\n",
       "      <td>Multi-branch WiFi Access Point Refresh</td>\n",
       "      <td>400-037-X01</td>\n",
       "      <td>20230257727-1-DSB-EFT</td>\n",
       "      <td>No</td>\n",
       "      <td>...</td>\n",
       "      <td>LN18CAMEL</td>\n",
       "      <td>MELROSE - Initial Outfitting (Carnegie Branch)</td>\n",
       "      <td>Fixed Asset</td>\n",
       "      <td>Facilities database</td>\n",
       "      <td>NaN</td>\n",
       "      <td>NaN</td>\n",
       "      <td>NaN</td>\n",
       "      <td>POINT (-73.91758 40.82658)</td>\n",
       "      <td>527.0</td>\n",
       "      <td>both</td>\n",
       "    </tr>\n",
       "    <tr>\n",
       "      <th>57</th>\n",
       "      <td>New York Public Library</td>\n",
       "      <td>NaN</td>\n",
       "      <td>MEL3 (NYPL: MELROSE (910 MORRIS AVE, BX): INIT)</td>\n",
       "      <td>037LN18CAMEL001</td>\n",
       "      <td>20563.50</td>\n",
       "      <td>CT103520231410502</td>\n",
       "      <td>Thos. Moser Tables and Chairs</td>\n",
       "      <td>400-037-008</td>\n",
       "      <td>20230330350-1-DSB-EFT</td>\n",
       "      <td>No</td>\n",
       "      <td>...</td>\n",
       "      <td>LN18CAMEL</td>\n",
       "      <td>MELROSE - Initial Outfitting (Carnegie Branch)</td>\n",
       "      <td>Fixed Asset</td>\n",
       "      <td>Facilities database</td>\n",
       "      <td>NaN</td>\n",
       "      <td>NaN</td>\n",
       "      <td>NaN</td>\n",
       "      <td>POINT (-73.91758 40.82658)</td>\n",
       "      <td>527.0</td>\n",
       "      <td>both</td>\n",
       "    </tr>\n",
       "    <tr>\n",
       "      <th>58</th>\n",
       "      <td>New York Public Library</td>\n",
       "      <td>NaN</td>\n",
       "      <td>PTR1 (NYPL: PORT RICHMOND (75 BENNETT ST, SI):)</td>\n",
       "      <td>037LN18CAPTR003</td>\n",
       "      <td>10247.38</td>\n",
       "      <td>DO103520212006752</td>\n",
       "      <td>Multi-branch WiFi Access Point Refresh</td>\n",
       "      <td>400-037-R01</td>\n",
       "      <td>20230257727-1-DSB-EFT</td>\n",
       "      <td>No</td>\n",
       "      <td>...</td>\n",
       "      <td>LN18CAPTR</td>\n",
       "      <td>PORT RICHMOND - Initial Outfitting (Carnegie B...</td>\n",
       "      <td>Fixed Asset</td>\n",
       "      <td>Facilities database</td>\n",
       "      <td>NaN</td>\n",
       "      <td>NaN</td>\n",
       "      <td>NaN</td>\n",
       "      <td>POINT (-74.13110 40.63758)</td>\n",
       "      <td>990.0</td>\n",
       "      <td>both</td>\n",
       "    </tr>\n",
       "  </tbody>\n",
       "</table>\n",
       "<p>5 rows × 34 columns</p>\n",
       "</div>"
      ],
      "text/plain": [
       "                     Agency  Associated Prime Vendor  \\\n",
       "52  New York Public Library                      NaN   \n",
       "53  New York Public Library                      NaN   \n",
       "56  New York Public Library                      NaN   \n",
       "57  New York Public Library                      NaN   \n",
       "58  New York Public Library                      NaN   \n",
       "\n",
       "                                        Budget Code  Capital Project  \\\n",
       "52  FTW4 (NYPL: FORT WASHINGTON (2535 WEST 179TH S)  037LN18CAFTW002   \n",
       "53  FTW5 (NYPL: FORT WASHINGTON (2535 WEST 179TH S)  037LN18CAFTW002   \n",
       "56  MEL2 (NYPL: MELROSE (910 MORRIS AVE, BX): INIT)  037LN18CAMEL002   \n",
       "57  MEL3 (NYPL: MELROSE (910 MORRIS AVE, BX): INIT)  037LN18CAMEL001   \n",
       "58  PTR1 (NYPL: PORT RICHMOND (75 BENNETT ST, SI):)  037LN18CAPTR003   \n",
       "\n",
       "    Check Amount        Contract ID                        Contract Purpose  \\\n",
       "52      11035.64  DO103520212006752  Multi-branch WiFi Access Point Refresh   \n",
       "53      21200.50  CT103520231410502           Thos. Moser Tables and Chairs   \n",
       "56      14976.94  DO103520212006752  Multi-branch WiFi Access Point Refresh   \n",
       "57      20563.50  CT103520231410502           Thos. Moser Tables and Chairs   \n",
       "58      10247.38  DO103520212006752  Multi-branch WiFi Access Point Refresh   \n",
       "\n",
       "     Department            Document ID Emerging Business  ...  projectid  \\\n",
       "52  400-037-M01  20230257727-1-DSB-EFT               No   ...  LN18CAFTW   \n",
       "53  400-037-M01  20230330350-1-DSB-EFT               No   ...  LN18CAFTW   \n",
       "56  400-037-X01  20230257727-1-DSB-EFT               No   ...  LN18CAMEL   \n",
       "57  400-037-008  20230330350-1-DSB-EFT               No   ...  LN18CAMEL   \n",
       "58  400-037-R01  20230257727-1-DSB-EFT               No   ...  LN18CAPTR   \n",
       "\n",
       "                                           descriptio   typecatego  \\\n",
       "52  FORT WASHINGTON - Initial Outfitting (Carnegie...  Fixed Asset   \n",
       "53  FORT WASHINGTON - Initial Outfitting (Carnegie...  Fixed Asset   \n",
       "56     MELROSE - Initial Outfitting (Carnegie Branch)  Fixed Asset   \n",
       "57     MELROSE - Initial Outfitting (Carnegie Branch)  Fixed Asset   \n",
       "58  PORT RICHMOND - Initial Outfitting (Carnegie B...  Fixed Asset   \n",
       "\n",
       "             geomsource dataname datasource  datadate  \\\n",
       "52  Facilities database      NaN        NaN       NaN   \n",
       "53  Facilities database      NaN        NaN       NaN   \n",
       "56  Facilities database      NaN        NaN       NaN   \n",
       "57  Facilities database      NaN        NaN       NaN   \n",
       "58  Facilities database      NaN        NaN       NaN   \n",
       "\n",
       "                      geometry cartodb_id _merge  \n",
       "52  POINT (-73.93385 40.84787)     1164.0   both  \n",
       "53  POINT (-73.93385 40.84787)     1164.0   both  \n",
       "56  POINT (-73.91758 40.82658)      527.0   both  \n",
       "57  POINT (-73.91758 40.82658)      527.0   both  \n",
       "58  POINT (-74.13110 40.63758)      990.0   both  \n",
       "\n",
       "[5 rows x 34 columns]"
      ]
     },
     "execution_count": 167,
     "metadata": {},
     "output_type": "execute_result"
    }
   ],
   "source": [
    "geoms = gdf[gdf['_merge']=='both']\n",
    "geoms.head(5)"
   ]
  },
  {
   "cell_type": "markdown",
   "metadata": {},
   "source": [
    "# Visualizations\n",
    "\n",
    "Ideas:\n",
    "\n",
    "- Pie charts: \n",
    "    - Percent of projects mapped \n",
    "    - Percent of money mapped\n",
    "- Bar charts:\n",
    "    - Number of projects with geometries by category\n",
    "    - Amount of money with eometries by category\n",
    "- Maps: \n",
    "    - Checkbook NYC geometries vs. all CPDB geometries\n",
    "    - Checkbook NYC geometries vs. all CPDB geometries, broken down by category"
   ]
  },
  {
   "cell_type": "markdown",
   "metadata": {},
   "source": [
    "## Pie charts"
   ]
  },
  {
   "cell_type": "code",
   "execution_count": 176,
   "metadata": {},
   "outputs": [
    {
     "data": {
      "image/png": "[encoded data removed]",
      "text/plain": [
       "<Figure size 432x432 with 1 Axes>"
      ]
     },
     "metadata": {},
     "output_type": "display_data"
    }
   ],
   "source": [
    "# --- PERCENT OF CHECKBOOK NYC PROJECTS WITH GEOMETRIES\n",
    "fig, ax = plt.subplots(figsize=(6,6))\n",
    "\n",
    "n = gdf.shape[0]\n",
    "m = geoms.shape[0]\n",
    "data = [(m/n), (1-(m/n))]\n",
    "\n",
    "labels = ['Geometries', 'No geometries']\n",
    "patches, texts, pcts = ax.pie(data, labels=labels, colors=sns.color_palette('tab20'), autopct='%.2f%%',\n",
    "wedgeprops={'linewidth': 3.0, 'edgecolor': 'white'},\n",
    "       textprops={'size': 'large'},\n",
    "       startangle=360,\n",
    "       explode=(0, 0.1))\n",
    "ax.set_title('Proportion of projects in Checkbook NYC joined onto CPDB geometries',  fontsize = 14, fontweight = 'bold', color = 'black', pad = 10 )\n",
    "plt.setp(pcts, color='black', fontweight=400)\n",
    "plt.setp(texts, fontweight=600)\n",
    "plt.tight_layout()\n",
    "plt.show()\n",
    "#fig.savefig('percent_geoms_pie.png', facecolor='white', transparent=False, bbox_inches='tight')"
   ]
  },
  {
   "cell_type": "code",
   "execution_count": 177,
   "metadata": {},
   "outputs": [
    {
     "data": {
      "image/png": "[encoded data removed]",
      "text/plain": [
       "<Figure size 432x432 with 1 Axes>"
      ]
     },
     "metadata": {},
     "output_type": "display_data"
    }
   ],
   "source": [
    "# --- PERCENT OF MONEY FROM CHECKBOOK NYC WITH GEOMETRIES\n",
    "\n",
    "fig, ax = plt.subplots(figsize=(6,6))\n",
    "\n",
    "n = sum(gdf['Check Amount'])\n",
    "m = sum(geoms['Check Amount'])\n",
    "data = [(m/n), (1-(m/n))]\n",
    "\n",
    "labels = ['Geometries', 'No geometries']\n",
    "patches, texts, pcts = ax.pie(data, labels=labels, colors=sns.color_palette('tab20'), autopct='%.2f%%',\n",
    "wedgeprops={'linewidth': 3.0, 'edgecolor': 'white'},\n",
    "       textprops={'size': 'large'},\n",
    "       startangle=360,\n",
    "       explode=(0, 0.1))\n",
    "ax.set_title('Proportion of money captured in Checkbook NYC joined onto CPDB geometries',  fontsize = 14, fontweight = 'bold', color = 'black', pad = 10 )\n",
    "plt.setp(pcts, color='black', fontweight=400)\n",
    "plt.setp(texts, fontweight=600)\n",
    "plt.tight_layout()\n",
    "plt.show()\n",
    "#fig.savefig('percent_money_pie.png', facecolor='white', transparent=False, bbox_inches='tight')"
   ]
  },
  {
   "cell_type": "markdown",
   "metadata": {},
   "source": [
    "## Bar charts"
   ]
  },
  {
   "cell_type": "code",
   "execution_count": 236,
   "metadata": {},
   "outputs": [
    {
     "name": "stderr",
     "output_type": "stream",
     "text": [
      "/Users/alexandrathursland/opt/anaconda3/envs/dcp/lib/python3.11/site-packages/geopandas/geodataframe.py:1538: SettingWithCopyWarning: \n",
      "A value is trying to be set on a copy of a slice from a DataFrame.\n",
      "Try using .loc[row_indexer,col_indexer] = value instead\n",
      "\n",
      "See the caveats in the documentation: https://pandas.pydata.org/pandas-docs/stable/user_guide/indexing.html#returning-a-view-versus-a-copy\n",
      "  super().__setitem__(key, value)\n"
     ]
    },
    {
     "data": {
      "text/html": [
       "<div>\n",
       "<style scoped>\n",
       "    .dataframe tbody tr th:only-of-type {\n",
       "        vertical-align: middle;\n",
       "    }\n",
       "\n",
       "    .dataframe tbody tr th {\n",
       "        vertical-align: top;\n",
       "    }\n",
       "\n",
       "    .dataframe thead th {\n",
       "        text-align: right;\n",
       "    }\n",
       "</style>\n",
       "<table border=\"1\" class=\"dataframe\">\n",
       "  <thead>\n",
       "    <tr style=\"text-align: right;\">\n",
       "      <th></th>\n",
       "      <th>Category</th>\n",
       "      <th>Count</th>\n",
       "      <th>Category Order</th>\n",
       "      <th>Color</th>\n",
       "    </tr>\n",
       "  </thead>\n",
       "  <tbody>\n",
       "    <tr>\n",
       "      <th>0</th>\n",
       "      <td>Fixed Asset</td>\n",
       "      <td>20155</td>\n",
       "      <td>0</td>\n",
       "      <td>indianred</td>\n",
       "    </tr>\n",
       "    <tr>\n",
       "      <th>2</th>\n",
       "      <td>Lump Sum</td>\n",
       "      <td>2045</td>\n",
       "      <td>1</td>\n",
       "      <td>gold</td>\n",
       "    </tr>\n",
       "    <tr>\n",
       "      <th>1</th>\n",
       "      <td>ITT, Vehicles, and Equipment</td>\n",
       "      <td>1933</td>\n",
       "      <td>2</td>\n",
       "      <td>cornflowerblue</td>\n",
       "    </tr>\n",
       "    <tr>\n",
       "      <th>3</th>\n",
       "      <td>None</td>\n",
       "      <td>5680</td>\n",
       "      <td>3</td>\n",
       "      <td>lightsteelblue</td>\n",
       "    </tr>\n",
       "  </tbody>\n",
       "</table>\n",
       "</div>"
      ],
      "text/plain": [
       "                       Category  Count  Category Order           Color\n",
       "0                   Fixed Asset  20155               0       indianred\n",
       "2                      Lump Sum   2045               1            gold\n",
       "1  ITT, Vehicles, and Equipment   1933               2  cornflowerblue\n",
       "3                          None   5680               3  lightsteelblue"
      ]
     },
     "execution_count": 236,
     "metadata": {},
     "output_type": "execute_result"
    }
   ],
   "source": [
    "category_order_1 = ['Fixed Asset', 'Lump Sum', 'ITT, Vehicles, and Equipment', 'None']\n",
    "category_order_2 = ['Fixed Asset', 'ITT, Vehicles, and Equipment', 'Lump Sum', 'None']\n",
    "\n",
    "category_colors = {\n",
    "    'Fixed Asset': 'indianred', \n",
    "    'Lump Sum': 'gold', \n",
    "    'ITT, Vehicles, and Equipment': 'cornflowerblue', \n",
    "    'None': 'lightsteelblue'\n",
    "}\n",
    "\n",
    "# --- NUMBER OF PROJECTS WITH GEOMETRY BY CATEGORY\n",
    "geoms['typecatego'] = geoms['typecatego'].fillna('None')\n",
    "cat_counts = geoms.groupby('typecatego')['maprojid'].count().reset_index()\n",
    "cat_counts.columns = ['Category', 'Count']\n",
    "cat_counts['Category Order'] = pd.Categorical(cat_counts['Category'], categories=category_order_1, ordered=True).codes\n",
    "cat_counts = cat_counts.sort_values('Category Order')\n",
    "cat_counts['Color'] = cat_counts['Category'].map(category_colors)\n",
    "\n",
    "#cat_counts.sort_values(by='Count',ascending=False, inplace=True)\n",
    "\n",
    "# --- AMOUNT OF MONEY WITH GEOMETRY BY CATEGORY\n",
    "cat_check_sum = geoms.groupby('typecatego')['Check Amount'].sum().reset_index()\n",
    "cat_check_sum.columns = ['Category', \"Sum of Check Amounts\"]\n",
    "#cat_check_sum.sort_values(by=\"Sum of Check Amounts\",ascending=False, inplace=True)\n",
    "cat_check_sum['Category Order'] = pd.Categorical(cat_counts['Category'], categories=category_order_2, ordered=True).codes\n",
    "cat_check_sum = cat_check_sum.sort_values('Category Order')\n",
    "cat_check_sum['Color'] = cat_check_sum['Category'].map(category_colors)\n",
    "\n",
    "cat_counts"
   ]
  },
  {
   "cell_type": "code",
   "execution_count": 252,
   "metadata": {},
   "outputs": [
    {
     "data": {
      "image/png": "[encoded data removed]",
      "text/plain": [
       "<Figure size 864x432 with 1 Axes>"
      ]
     },
     "metadata": {
      "needs_background": "light"
     },
     "output_type": "display_data"
    }
   ],
   "source": [
    "# --- Number of Checkbook NYC projects with a geometry, by category --- \n",
    "fig, axs = plt.subplots(figsize=(12,6), nrows = 1)\n",
    "ax = axs\n",
    "ax = sns.barplot(data=cat_counts, y='Category', x='Count', ax=ax, palette = cat_counts['Color'], orient='h')\n",
    "\n",
    "for p in ax.patches:\n",
    "    width = p.get_width()\n",
    "    label = f\"{int(width):,}\"\n",
    "    x_pos = width + 5 \n",
    "    y_pos = p.get_y() + p.get_height() / 2\n",
    "    ax.annotate(label, (x_pos, y_pos), fontsize=11, fontweight='light', alpha=0.8, color='black', ha='left', va='center')\n",
    "\n",
    "# tick marks and 0-line\n",
    "sns.despine(ax=ax, bottom = True )\n",
    "ax.tick_params( left=False, bottom=False )\n",
    "ax.set_title(\"Number of projects with a geometry, by CPDB category\", fontsize=11, fontweight=\"bold\", loc=\"left\")\n",
    "ax.grid(axis='x', linestyle='-', alpha=0.5, zorder = 0 )\n",
    "ax.set_ylabel(\"CPDB Type Category\")\n",
    "ax.set_xlabel(\"Count\")\n",
    "plt.tight_layout( h_pad=1 )\n",
    "\n",
    "ax.xaxis.set_major_formatter(ticker.FuncFormatter(lambda x, pos: f\"{int(x):,}\"))\n",
    "\n",
    "fig.savefig('geoms_by_cat_bar.png', facecolor='white', transparent=False, bbox_inches='tight')\n",
    "plt.show()"
   ]
  },
  {
   "cell_type": "code",
   "execution_count": 251,
   "metadata": {},
   "outputs": [
    {
     "data": {
      "image/png": "[encoded data removed]",
      "text/plain": [
       "<Figure size 864x432 with 1 Axes>"
      ]
     },
     "metadata": {
      "needs_background": "light"
     },
     "output_type": "display_data"
    }
   ],
   "source": [
    "# --- Money from Checkbook NYC projects with a geometry, by category --- \n",
    "fig, axs = plt.subplots(figsize=(12,6), nrows = 1)\n",
    "ax = axs\n",
    "ax = sns.barplot(data=cat_check_sum, y='Category', x='Sum of Check Amounts', ax=ax, palette = cat_check_sum['Color'], orient='h')\n",
    "\n",
    "for p in ax.patches:\n",
    "    width = p.get_width()\n",
    "    label = f\"{width / 1e9:.2f}B\"\n",
    "    x_pos = width + 5 \n",
    "    y_pos = p.get_y() + p.get_height() / 2\n",
    "    ax.annotate(label, (x_pos, y_pos), fontsize=11, fontweight='light', alpha=0.8, color='black', ha='left', va='center')\n",
    "\n",
    "# tick marks and 0-line\n",
    "sns.despine(ax=ax, bottom = True )\n",
    "ax.tick_params( left=False, bottom=False )\n",
    "ax.set_title(\"Spending captured by projects with a geometry, by CPDB category\", fontsize=11, fontweight=\"bold\", loc=\"left\")\n",
    "ax.grid(axis='x', linestyle='-', alpha=0.5, zorder = 0 )\n",
    "ax.set_ylabel(\"CPDB Type Category\")\n",
    "ax.set_xlabel(\"Sum of check amounts, in billions\")\n",
    "plt.tight_layout( h_pad=1 )\n",
    "\n",
    "ax.xaxis.set_major_locator(ticker.MultipleLocator(base=1e9))\n",
    "ax.xaxis.set_major_formatter(ticker.FuncFormatter(lambda x, pos: f\"{x/1e9:.2f}\"))\n",
    "\n",
    "fig.savefig('geoms_by_cat_money_bar.png', facecolor='white', transparent=False, bbox_inches='tight')\n",
    "plt.show()"
   ]
  },
  {
   "cell_type": "markdown",
   "metadata": {},
   "source": [
    "## Maps"
   ]
  },
  {
   "cell_type": "code",
   "execution_count": 225,
   "metadata": {},
   "outputs": [
    {
     "data": {
      "text/plain": [
       "<Axes: >"
      ]
     },
     "execution_count": 225,
     "metadata": {},
     "output_type": "execute_result"
    },
    {
     "data": {
      "image/png": "[encoded data removed]",
      "text/plain": [
       "<Figure size 432x288 with 1 Axes>"
      ]
     },
     "metadata": {
      "needs_background": "light"
     },
     "output_type": "display_data"
    }
   ],
   "source": [
    "# visualize mapped geometries\n",
    "nyc = gpd.read_file(geodatasets.get_path('nybb'))\n",
    "# geoms.plot(cmap = 'tab20', column = 'Agency', markersize=0.1)\n",
    "xmin, ymin, xmax, ymax = -74.219513, 40.547200,-73.770447,40.893792\n",
    "geoms_bounded = geoms.cx[xmin:xmax, ymin:ymax]\n",
    "\n",
    "geoms_bounded.plot(markersize=0.1)"
   ]
  },
  {
   "cell_type": "code",
   "execution_count": 223,
   "metadata": {},
   "outputs": [
    {
     "data": {
      "text/html": [
       "<div>\n",
       "<style scoped>\n",
       "    .dataframe tbody tr th:only-of-type {\n",
       "        vertical-align: middle;\n",
       "    }\n",
       "\n",
       "    .dataframe tbody tr th {\n",
       "        vertical-align: top;\n",
       "    }\n",
       "\n",
       "    .dataframe thead th {\n",
       "        text-align: right;\n",
       "    }\n",
       "</style>\n",
       "<table border=\"1\" class=\"dataframe\">\n",
       "  <thead>\n",
       "    <tr style=\"text-align: right;\">\n",
       "      <th></th>\n",
       "      <th>Agency</th>\n",
       "      <th>Associated Prime Vendor</th>\n",
       "      <th>Budget Code</th>\n",
       "      <th>Capital Project</th>\n",
       "      <th>Check Amount</th>\n",
       "      <th>Contract ID</th>\n",
       "      <th>Contract Purpose</th>\n",
       "      <th>Department</th>\n",
       "      <th>Document ID</th>\n",
       "      <th>Emerging Business</th>\n",
       "      <th>...</th>\n",
       "      <th>projectid</th>\n",
       "      <th>descriptio</th>\n",
       "      <th>typecatego</th>\n",
       "      <th>geomsource</th>\n",
       "      <th>dataname</th>\n",
       "      <th>datasource</th>\n",
       "      <th>datadate</th>\n",
       "      <th>geometry</th>\n",
       "      <th>cartodb_id</th>\n",
       "      <th>_merge</th>\n",
       "    </tr>\n",
       "  </thead>\n",
       "  <tbody>\n",
       "    <tr>\n",
       "      <th>68487</th>\n",
       "      <td>Department of Cultural Affairs</td>\n",
       "      <td>NaN</td>\n",
       "      <td>BBGV (BROOKLYN BOTANIC GARDEN: PURCHASE DUMP T)</td>\n",
       "      <td>850PV236-VEH001</td>\n",
       "      <td>64621.0</td>\n",
       "      <td>CT185020111404187</td>\n",
       "      <td>Maintenance vehicles</td>\n",
       "      <td>400-126-D06</td>\n",
       "      <td>20120037898-1-DSB-EFT</td>\n",
       "      <td>No</td>\n",
       "      <td>...</td>\n",
       "      <td>PV236-VEH</td>\n",
       "      <td>BBG - Brooklyn Botanic Garden - vehicular equi...</td>\n",
       "      <td>ITT, Vehicles, and Equipment</td>\n",
       "      <td>AD Sprint</td>\n",
       "      <td>NaN</td>\n",
       "      <td>NaN</td>\n",
       "      <td>NaN</td>\n",
       "      <td>POLYGON ((-73.96536 40.67215, -73.96463 40.671...</td>\n",
       "      <td>1379.0</td>\n",
       "      <td>both</td>\n",
       "    </tr>\n",
       "  </tbody>\n",
       "</table>\n",
       "<p>1 rows × 34 columns</p>\n",
       "</div>"
      ],
      "text/plain": [
       "                               Agency  Associated Prime Vendor  \\\n",
       "68487  Department of Cultural Affairs                      NaN   \n",
       "\n",
       "                                           Budget Code  Capital Project  \\\n",
       "68487  BBGV (BROOKLYN BOTANIC GARDEN: PURCHASE DUMP T)  850PV236-VEH001   \n",
       "\n",
       "       Check Amount        Contract ID      Contract Purpose   Department  \\\n",
       "68487       64621.0  CT185020111404187  Maintenance vehicles  400-126-D06   \n",
       "\n",
       "                 Document ID Emerging Business  ...  projectid  \\\n",
       "68487  20120037898-1-DSB-EFT               No   ...  PV236-VEH   \n",
       "\n",
       "                                              descriptio  \\\n",
       "68487  BBG - Brooklyn Botanic Garden - vehicular equi...   \n",
       "\n",
       "                         typecatego geomsource dataname datasource  datadate  \\\n",
       "68487  ITT, Vehicles, and Equipment  AD Sprint      NaN        NaN       NaN   \n",
       "\n",
       "                                                geometry cartodb_id _merge  \n",
       "68487  POLYGON ((-73.96536 40.67215, -73.96463 40.671...     1379.0   both  \n",
       "\n",
       "[1 rows x 34 columns]"
      ]
     },
     "execution_count": 223,
     "metadata": {},
     "output_type": "execute_result"
    }
   ],
   "source": [
    "invalid_geoms = geoms[~geoms['geometry'].is_valid]\n",
    "\n",
    "invalid_geoms"
   ]
  },
  {
   "cell_type": "markdown",
   "metadata": {},
   "source": [
    "### Summary of findings"
   ]
  }
 ],
 "metadata": {
  "kernelspec": {
   "display_name": "Python 3.11.3 ('dcp')",
   "language": "python",
   "name": "python3"
  },
  "language_info": {
   "codemirror_mode": {
    "name": "ipython",
    "version": 3
   },
   "file_extension": ".py",
   "mimetype": "text/x-python",
   "name": "python",
   "nbconvert_exporter": "python",
   "pygments_lexer": "ipython3",
   "version": "3.11.3"
  },
  "orig_nbformat": 4,
  "vscode": {
   "interpreter": {
    "hash": "f10cfb6677a17cec9a3464eac6be38232c3e9ffbd2de13988056aee8f13fc0f8"
   }
  }
 },
 "nbformat": 4,
 "nbformat_minor": 2
}
